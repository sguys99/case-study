{
 "cells": [
  {
   "cell_type": "markdown",
   "id": "c7a65cec",
   "metadata": {},
   "source": [
    "## ch3 Machine learning : multi-step2 (direct)"
   ]
  },
  {
   "cell_type": "markdown",
   "id": "62918965",
   "metadata": {},
   "source": [
    "<div style=\"text-align: right\"> <b>Author : Kwang Myung Yu</b></div>\n",
    "<div style=\"text-align: right\\\"> Initial upload: 2022.09.09 </div>\n",
    "<div style=\"text-align: right\\\"> Last update: 2022.09.09</div>"
   ]
  },
  {
   "cell_type": "code",
   "execution_count": 1,
   "id": "9d3f9631",
   "metadata": {},
   "outputs": [],
   "source": [
    "import os\n",
    "import sys\n",
    "import time\n",
    "import numpy as np\n",
    "import pandas as pd\n",
    "import matplotlib.pyplot as plt\n",
    "import seaborn as sns\n",
    "from scipy import stats\n",
    "import warnings; warnings.filterwarnings('ignore')\n",
    "plt.style.use('seaborn-whitegrid')\n",
    "%matplotlib inline"
   ]
  },
  {
   "cell_type": "code",
   "execution_count": 20,
   "id": "37a9bdbf",
   "metadata": {},
   "outputs": [],
   "source": [
    "from xgboost import XGBRegressor\n",
    "from sklearn.multioutput import MultiOutputRegressor"
   ]
  },
  {
   "cell_type": "code",
   "execution_count": 3,
   "id": "b167dc4a",
   "metadata": {},
   "outputs": [
    {
     "data": {
      "text/html": [
       "<svg  width=\"550\" height=\"55\"><rect x=\"0\" y=\"0\" width=\"55\" height=\"55\" style=\"fill:#00798c;stroke-width:2;stroke:rgb(255,255,255)\"/><rect x=\"55\" y=\"0\" width=\"55\" height=\"55\" style=\"fill:#d1495b;stroke-width:2;stroke:rgb(255,255,255)\"/><rect x=\"110\" y=\"0\" width=\"55\" height=\"55\" style=\"fill:#edae49;stroke-width:2;stroke:rgb(255,255,255)\"/><rect x=\"165\" y=\"0\" width=\"55\" height=\"55\" style=\"fill:#66a182;stroke-width:2;stroke:rgb(255,255,255)\"/><rect x=\"220\" y=\"0\" width=\"55\" height=\"55\" style=\"fill:#4a4a4a;stroke-width:2;stroke:rgb(255,255,255)\"/><rect x=\"275\" y=\"0\" width=\"55\" height=\"55\" style=\"fill:#1a508b;stroke-width:2;stroke:rgb(255,255,255)\"/><rect x=\"330\" y=\"0\" width=\"55\" height=\"55\" style=\"fill:#e3120b;stroke-width:2;stroke:rgb(255,255,255)\"/><rect x=\"385\" y=\"0\" width=\"55\" height=\"55\" style=\"fill:#c5a880;stroke-width:2;stroke:rgb(255,255,255)\"/><rect x=\"440\" y=\"0\" width=\"55\" height=\"55\" style=\"fill:#9f5f80;stroke-width:2;stroke:rgb(255,255,255)\"/><rect x=\"495\" y=\"0\" width=\"55\" height=\"55\" style=\"fill:#6f9eaf;stroke-width:2;stroke:rgb(255,255,255)\"/></svg>"
      ],
      "text/plain": [
       "[(0.0, 0.4745098039215686, 0.5490196078431373),\n",
       " (0.8196078431372549, 0.28627450980392155, 0.3568627450980392),\n",
       " (0.9294117647058824, 0.6823529411764706, 0.28627450980392155),\n",
       " (0.4, 0.6313725490196078, 0.5098039215686274),\n",
       " (0.2901960784313726, 0.2901960784313726, 0.2901960784313726),\n",
       " (0.10196078431372549, 0.3137254901960784, 0.5450980392156862),\n",
       " (0.8901960784313725, 0.07058823529411765, 0.043137254901960784),\n",
       " (0.7725490196078432, 0.6588235294117647, 0.5019607843137255),\n",
       " (0.6235294117647059, 0.37254901960784315, 0.5019607843137255),\n",
       " (0.43529411764705883, 0.6196078431372549, 0.6862745098039216)]"
      ]
     },
     "execution_count": 3,
     "metadata": {},
     "output_type": "execute_result"
    }
   ],
   "source": [
    "colors = [\"#00798c\", \"#d1495b\", '#edae49', '#66a182', '#4a4a4a',\n",
    "          '#1a508b', '#e3120b', '#c5a880', '#9F5F80', '#6F9EAF',\n",
    "          '#0278ae','#F39233', '#A7C5EB', '#54E346', '#ABCE74',\n",
    "        '#d6b0b1', '#58391c', '#cdd0cb', '#ffb396', '#6930c3']\n",
    "sns.color_palette(colors[:10])"
   ]
  },
  {
   "cell_type": "code",
   "execution_count": 4,
   "id": "a21b2cfc",
   "metadata": {},
   "outputs": [],
   "source": [
    "def load_dexcom_data(path, sampling_time='5min'):\n",
    "    df = pd.read_csv(path)\n",
    "    df = df[df['타임스탬프(YYYY-MM-DDThh:mm:ss)'].notnull()]\n",
    "    df = df.iloc[:,[1, 7]]\n",
    "    df.columns = ['timestamp', 'glucose']\n",
    "    df = df.reset_index(drop = True)\n",
    "    df['timestamp'] = pd.to_datetime(df['timestamp'])\n",
    "    df['timestamp'] = df['timestamp'].dt.round(sampling_time)\n",
    "    df = df.dropna()\n",
    "    idx = pd.date_range(df['timestamp'].min(), df['timestamp'].max(), freq=sampling_time)\n",
    "    df = df.set_index('timestamp').reindex(idx, fill_value=np.nan).reset_index().rename(columns = {'index': 'timestamp'})\n",
    "    \n",
    "    return df"
   ]
  },
  {
   "cell_type": "code",
   "execution_count": 5,
   "id": "973ad6fd",
   "metadata": {},
   "outputs": [],
   "source": [
    "def series_to_supervised(data, n_in=1, n_out=1, col_name = 'glucose', dropnan=True):\n",
    "\n",
    "    n_vars = 1 if type(data) is list else data.shape[1]\n",
    "\n",
    "    cols, names = list(), list()\n",
    "\t# input sequence (t-n, ... t-1)\n",
    "    for i in range(n_in, 0, -1):\n",
    "        cols.append(data.shift(i))\n",
    "        names += [(col_name+'(t-%d)' % (i)) for j in range(n_vars)]\n",
    "\t# forecast sequence (t, t+1, ... t+n)\n",
    "    for i in range(0, n_out):\n",
    "        cols.append(data.shift(-i))\n",
    "        if i == 0:\n",
    "            names += [col_name+'(t)']\n",
    "        else:\n",
    "            names += [(col_name+'(t+%d)' % (i)) for j in range(n_vars)]\n",
    "\t# put it all together\n",
    "    agg = pd.concat(cols, axis=1)\n",
    "    agg.columns = names\n",
    "    # drop rows with NaN values\n",
    "    if dropnan:\n",
    "        agg.dropna(inplace=True)\n",
    "    return agg"
   ]
  },
  {
   "cell_type": "markdown",
   "id": "993d23a3",
   "metadata": {},
   "source": [
    "### 1. 데이터 셋 만들기"
   ]
  },
  {
   "cell_type": "code",
   "execution_count": 10,
   "id": "9ee289f3",
   "metadata": {},
   "outputs": [],
   "source": [
    "path = 'dexcom_sample.csv'\n",
    "cgm = load_dexcom_data(path)\n",
    "cgm['glucose_diff'] = cgm['glucose'].diff()\n",
    "cgm = cgm.dropna()\n",
    "df_sv = series_to_supervised(cgm[['glucose']], n_in=4, n_out = 4, dropnan = False)\n",
    "diff = series_to_supervised(cgm[['glucose_diff']], n_in=4, n_out = 4, \n",
    "                             col_name='diff', dropnan = False)\n",
    "\n",
    "df_sv[['diff(t-4)', 'diff(t-3)', 'diff(t-2)', 'diff(t-1)', 'diff(t)']]=\\\n",
    "diff[['diff(t-4)', 'diff(t-3)', 'diff(t-2)', 'diff(t-1)', 'diff(t)']]\n",
    "\n",
    "df_sv['timestamp'] = cgm['timestamp']\n",
    "df_sv = df_sv[['timestamp', 'diff(t-4)', 'diff(t-3)', 'diff(t-2)', 'diff(t-1)', \n",
    "               'diff(t)','glucose(t-4)', 'glucose(t-3)', 'glucose(t-2)', \n",
    "               'glucose(t-1)', 'glucose(t)', \n",
    "               'glucose(t+1)', 'glucose(t+2)', 'glucose(t+3)']]\n",
    "\n",
    "df_sv['glucose(t+4)'] = df_sv['glucose(t+3)'].shift(-1)\n",
    "df_sv['glucose(t+5)'] = df_sv['glucose(t+4)'].shift(-1)\n",
    "\n",
    "df_sv = df_sv.dropna().reset_index(drop = True)\n",
    "df_sv = df_sv.set_index('timestamp').loc[:'2022-06-10 21:15'].reset_index(drop=False)"
   ]
  },
  {
   "cell_type": "code",
   "execution_count": 11,
   "id": "d7289862",
   "metadata": {},
   "outputs": [
    {
     "data": {
      "text/html": [
       "<div>\n",
       "<style scoped>\n",
       "    .dataframe tbody tr th:only-of-type {\n",
       "        vertical-align: middle;\n",
       "    }\n",
       "\n",
       "    .dataframe tbody tr th {\n",
       "        vertical-align: top;\n",
       "    }\n",
       "\n",
       "    .dataframe thead th {\n",
       "        text-align: right;\n",
       "    }\n",
       "</style>\n",
       "<table border=\"1\" class=\"dataframe\">\n",
       "  <thead>\n",
       "    <tr style=\"text-align: right;\">\n",
       "      <th></th>\n",
       "      <th>timestamp</th>\n",
       "      <th>diff(t-4)</th>\n",
       "      <th>diff(t-3)</th>\n",
       "      <th>diff(t-2)</th>\n",
       "      <th>diff(t-1)</th>\n",
       "      <th>diff(t)</th>\n",
       "      <th>glucose(t-4)</th>\n",
       "      <th>glucose(t-3)</th>\n",
       "      <th>glucose(t-2)</th>\n",
       "      <th>glucose(t-1)</th>\n",
       "      <th>glucose(t)</th>\n",
       "      <th>glucose(t+1)</th>\n",
       "      <th>glucose(t+2)</th>\n",
       "      <th>glucose(t+3)</th>\n",
       "      <th>glucose(t+4)</th>\n",
       "      <th>glucose(t+5)</th>\n",
       "    </tr>\n",
       "  </thead>\n",
       "  <tbody>\n",
       "    <tr>\n",
       "      <th>0</th>\n",
       "      <td>2022-06-01 07:20:00</td>\n",
       "      <td>3.0</td>\n",
       "      <td>3.0</td>\n",
       "      <td>3.0</td>\n",
       "      <td>1.0</td>\n",
       "      <td>0.0</td>\n",
       "      <td>122.0</td>\n",
       "      <td>125.0</td>\n",
       "      <td>128.0</td>\n",
       "      <td>129.0</td>\n",
       "      <td>129.0</td>\n",
       "      <td>130.0</td>\n",
       "      <td>128.0</td>\n",
       "      <td>127.0</td>\n",
       "      <td>124.0</td>\n",
       "      <td>124.0</td>\n",
       "    </tr>\n",
       "    <tr>\n",
       "      <th>1</th>\n",
       "      <td>2022-06-01 07:25:00</td>\n",
       "      <td>3.0</td>\n",
       "      <td>3.0</td>\n",
       "      <td>1.0</td>\n",
       "      <td>0.0</td>\n",
       "      <td>1.0</td>\n",
       "      <td>125.0</td>\n",
       "      <td>128.0</td>\n",
       "      <td>129.0</td>\n",
       "      <td>129.0</td>\n",
       "      <td>130.0</td>\n",
       "      <td>128.0</td>\n",
       "      <td>127.0</td>\n",
       "      <td>124.0</td>\n",
       "      <td>124.0</td>\n",
       "      <td>130.0</td>\n",
       "    </tr>\n",
       "    <tr>\n",
       "      <th>2</th>\n",
       "      <td>2022-06-01 07:30:00</td>\n",
       "      <td>3.0</td>\n",
       "      <td>1.0</td>\n",
       "      <td>0.0</td>\n",
       "      <td>1.0</td>\n",
       "      <td>-2.0</td>\n",
       "      <td>128.0</td>\n",
       "      <td>129.0</td>\n",
       "      <td>129.0</td>\n",
       "      <td>130.0</td>\n",
       "      <td>128.0</td>\n",
       "      <td>127.0</td>\n",
       "      <td>124.0</td>\n",
       "      <td>124.0</td>\n",
       "      <td>130.0</td>\n",
       "      <td>137.0</td>\n",
       "    </tr>\n",
       "    <tr>\n",
       "      <th>3</th>\n",
       "      <td>2022-06-01 07:35:00</td>\n",
       "      <td>1.0</td>\n",
       "      <td>0.0</td>\n",
       "      <td>1.0</td>\n",
       "      <td>-2.0</td>\n",
       "      <td>-1.0</td>\n",
       "      <td>129.0</td>\n",
       "      <td>129.0</td>\n",
       "      <td>130.0</td>\n",
       "      <td>128.0</td>\n",
       "      <td>127.0</td>\n",
       "      <td>124.0</td>\n",
       "      <td>124.0</td>\n",
       "      <td>130.0</td>\n",
       "      <td>137.0</td>\n",
       "      <td>127.0</td>\n",
       "    </tr>\n",
       "    <tr>\n",
       "      <th>4</th>\n",
       "      <td>2022-06-01 07:40:00</td>\n",
       "      <td>0.0</td>\n",
       "      <td>1.0</td>\n",
       "      <td>-2.0</td>\n",
       "      <td>-1.0</td>\n",
       "      <td>-3.0</td>\n",
       "      <td>129.0</td>\n",
       "      <td>130.0</td>\n",
       "      <td>128.0</td>\n",
       "      <td>127.0</td>\n",
       "      <td>124.0</td>\n",
       "      <td>124.0</td>\n",
       "      <td>130.0</td>\n",
       "      <td>137.0</td>\n",
       "      <td>127.0</td>\n",
       "      <td>117.0</td>\n",
       "    </tr>\n",
       "  </tbody>\n",
       "</table>\n",
       "</div>"
      ],
      "text/plain": [
       "            timestamp  diff(t-4)  diff(t-3)  diff(t-2)  diff(t-1)  diff(t)  \\\n",
       "0 2022-06-01 07:20:00        3.0        3.0        3.0        1.0      0.0   \n",
       "1 2022-06-01 07:25:00        3.0        3.0        1.0        0.0      1.0   \n",
       "2 2022-06-01 07:30:00        3.0        1.0        0.0        1.0     -2.0   \n",
       "3 2022-06-01 07:35:00        1.0        0.0        1.0       -2.0     -1.0   \n",
       "4 2022-06-01 07:40:00        0.0        1.0       -2.0       -1.0     -3.0   \n",
       "\n",
       "   glucose(t-4)  glucose(t-3)  glucose(t-2)  glucose(t-1)  glucose(t)  \\\n",
       "0         122.0         125.0         128.0         129.0       129.0   \n",
       "1         125.0         128.0         129.0         129.0       130.0   \n",
       "2         128.0         129.0         129.0         130.0       128.0   \n",
       "3         129.0         129.0         130.0         128.0       127.0   \n",
       "4         129.0         130.0         128.0         127.0       124.0   \n",
       "\n",
       "   glucose(t+1)  glucose(t+2)  glucose(t+3)  glucose(t+4)  glucose(t+5)  \n",
       "0         130.0         128.0         127.0         124.0         124.0  \n",
       "1         128.0         127.0         124.0         124.0         130.0  \n",
       "2         127.0         124.0         124.0         130.0         137.0  \n",
       "3         124.0         124.0         130.0         137.0         127.0  \n",
       "4         124.0         130.0         137.0         127.0         117.0  "
      ]
     },
     "execution_count": 11,
     "metadata": {},
     "output_type": "execute_result"
    }
   ],
   "source": [
    "df_sv.head()"
   ]
  },
  {
   "cell_type": "code",
   "execution_count": 12,
   "id": "a6e5f64d",
   "metadata": {},
   "outputs": [],
   "source": [
    "train_index = 2735"
   ]
  },
  {
   "cell_type": "code",
   "execution_count": 13,
   "id": "e6d393ec",
   "metadata": {},
   "outputs": [
    {
     "data": {
      "image/png": "[encoded data removed]",
      "text/plain": [
       "<Figure size 1008x360 with 1 Axes>"
      ]
     },
     "metadata": {
      "needs_background": "light"
     },
     "output_type": "display_data"
    }
   ],
   "source": [
    "fig, ax = plt.subplots(figsize = (14, 5))\n",
    "df_sv[:train_index].set_index('timestamp')['glucose(t)'].plot(ax = ax, color = colors[0],\n",
    "                                                       linewidth=1, label = 'train')\n",
    "df_sv[train_index:].set_index('timestamp')['glucose(t)'].plot(ax = ax, color = colors[1], \n",
    "                                                       linewidth=1, label = 'test')\n",
    "plt.legend(fontsize = 14)\n",
    "plt.show()"
   ]
  },
  {
   "cell_type": "code",
   "execution_count": 14,
   "id": "cc02e63e",
   "metadata": {},
   "outputs": [
    {
     "data": {
      "image/png": "[encoded data removed]",
      "text/plain": [
       "<Figure size 360x360 with 1 Axes>"
      ]
     },
     "metadata": {
      "needs_background": "light"
     },
     "output_type": "display_data"
    }
   ],
   "source": [
    "fig, ax = plt.subplots(figsize = (5, 5))\n",
    "# df_sv[:2735].set_index('timestamp')['glucose(t)'].plot(ax = ax, color = colors[0],\n",
    "#                                                        linewidth=1, label = 'train')\n",
    "df_sv[train_index:].set_index('timestamp')['glucose(t)'].plot(ax = ax, color = colors[1], \n",
    "                                                       linewidth=1, marker = 'o',\n",
    "                                                       label = 'test')\n",
    "plt.legend(fontsize = 14)\n",
    "plt.show()"
   ]
  },
  {
   "cell_type": "code",
   "execution_count": 15,
   "id": "bee29fce",
   "metadata": {},
   "outputs": [],
   "source": [
    "X_train = df_sv.iloc[:train_index, 1:11]\n",
    "y_train = df_sv.iloc[:train_index, 11:]\n",
    "\n",
    "X_test = df_sv.iloc[train_index:, 1:11].reset_index(drop = True)\n",
    "y_test = df_sv.iloc[train_index:, 11:].reset_index(drop = True)"
   ]
  },
  {
   "cell_type": "code",
   "execution_count": 16,
   "id": "ead114e4",
   "metadata": {},
   "outputs": [
    {
     "name": "stdout",
     "output_type": "stream",
     "text": [
      "(2735, 10)\n",
      "(25, 10)\n"
     ]
    }
   ],
   "source": [
    "print(X_train.shape)\n",
    "print(X_test.shape)"
   ]
  },
  {
   "cell_type": "code",
   "execution_count": 17,
   "id": "27260df7",
   "metadata": {},
   "outputs": [
    {
     "data": {
      "text/html": [
       "<div>\n",
       "<style scoped>\n",
       "    .dataframe tbody tr th:only-of-type {\n",
       "        vertical-align: middle;\n",
       "    }\n",
       "\n",
       "    .dataframe tbody tr th {\n",
       "        vertical-align: top;\n",
       "    }\n",
       "\n",
       "    .dataframe thead th {\n",
       "        text-align: right;\n",
       "    }\n",
       "</style>\n",
       "<table border=\"1\" class=\"dataframe\">\n",
       "  <thead>\n",
       "    <tr style=\"text-align: right;\">\n",
       "      <th></th>\n",
       "      <th>diff(t-4)</th>\n",
       "      <th>diff(t-3)</th>\n",
       "      <th>diff(t-2)</th>\n",
       "      <th>diff(t-1)</th>\n",
       "      <th>diff(t)</th>\n",
       "      <th>glucose(t-4)</th>\n",
       "      <th>glucose(t-3)</th>\n",
       "      <th>glucose(t-2)</th>\n",
       "      <th>glucose(t-1)</th>\n",
       "      <th>glucose(t)</th>\n",
       "    </tr>\n",
       "  </thead>\n",
       "  <tbody>\n",
       "    <tr>\n",
       "      <th>0</th>\n",
       "      <td>3.0</td>\n",
       "      <td>3.0</td>\n",
       "      <td>3.0</td>\n",
       "      <td>1.0</td>\n",
       "      <td>0.0</td>\n",
       "      <td>122.0</td>\n",
       "      <td>125.0</td>\n",
       "      <td>128.0</td>\n",
       "      <td>129.0</td>\n",
       "      <td>129.0</td>\n",
       "    </tr>\n",
       "    <tr>\n",
       "      <th>1</th>\n",
       "      <td>3.0</td>\n",
       "      <td>3.0</td>\n",
       "      <td>1.0</td>\n",
       "      <td>0.0</td>\n",
       "      <td>1.0</td>\n",
       "      <td>125.0</td>\n",
       "      <td>128.0</td>\n",
       "      <td>129.0</td>\n",
       "      <td>129.0</td>\n",
       "      <td>130.0</td>\n",
       "    </tr>\n",
       "    <tr>\n",
       "      <th>2</th>\n",
       "      <td>3.0</td>\n",
       "      <td>1.0</td>\n",
       "      <td>0.0</td>\n",
       "      <td>1.0</td>\n",
       "      <td>-2.0</td>\n",
       "      <td>128.0</td>\n",
       "      <td>129.0</td>\n",
       "      <td>129.0</td>\n",
       "      <td>130.0</td>\n",
       "      <td>128.0</td>\n",
       "    </tr>\n",
       "    <tr>\n",
       "      <th>3</th>\n",
       "      <td>1.0</td>\n",
       "      <td>0.0</td>\n",
       "      <td>1.0</td>\n",
       "      <td>-2.0</td>\n",
       "      <td>-1.0</td>\n",
       "      <td>129.0</td>\n",
       "      <td>129.0</td>\n",
       "      <td>130.0</td>\n",
       "      <td>128.0</td>\n",
       "      <td>127.0</td>\n",
       "    </tr>\n",
       "    <tr>\n",
       "      <th>4</th>\n",
       "      <td>0.0</td>\n",
       "      <td>1.0</td>\n",
       "      <td>-2.0</td>\n",
       "      <td>-1.0</td>\n",
       "      <td>-3.0</td>\n",
       "      <td>129.0</td>\n",
       "      <td>130.0</td>\n",
       "      <td>128.0</td>\n",
       "      <td>127.0</td>\n",
       "      <td>124.0</td>\n",
       "    </tr>\n",
       "  </tbody>\n",
       "</table>\n",
       "</div>"
      ],
      "text/plain": [
       "   diff(t-4)  diff(t-3)  diff(t-2)  diff(t-1)  diff(t)  glucose(t-4)  \\\n",
       "0        3.0        3.0        3.0        1.0      0.0         122.0   \n",
       "1        3.0        3.0        1.0        0.0      1.0         125.0   \n",
       "2        3.0        1.0        0.0        1.0     -2.0         128.0   \n",
       "3        1.0        0.0        1.0       -2.0     -1.0         129.0   \n",
       "4        0.0        1.0       -2.0       -1.0     -3.0         129.0   \n",
       "\n",
       "   glucose(t-3)  glucose(t-2)  glucose(t-1)  glucose(t)  \n",
       "0         125.0         128.0         129.0       129.0  \n",
       "1         128.0         129.0         129.0       130.0  \n",
       "2         129.0         129.0         130.0       128.0  \n",
       "3         129.0         130.0         128.0       127.0  \n",
       "4         130.0         128.0         127.0       124.0  "
      ]
     },
     "execution_count": 17,
     "metadata": {},
     "output_type": "execute_result"
    }
   ],
   "source": [
    "X_train.head()"
   ]
  },
  {
   "cell_type": "code",
   "execution_count": 18,
   "id": "9ee08da1",
   "metadata": {},
   "outputs": [
    {
     "data": {
      "text/html": [
       "<div>\n",
       "<style scoped>\n",
       "    .dataframe tbody tr th:only-of-type {\n",
       "        vertical-align: middle;\n",
       "    }\n",
       "\n",
       "    .dataframe tbody tr th {\n",
       "        vertical-align: top;\n",
       "    }\n",
       "\n",
       "    .dataframe thead th {\n",
       "        text-align: right;\n",
       "    }\n",
       "</style>\n",
       "<table border=\"1\" class=\"dataframe\">\n",
       "  <thead>\n",
       "    <tr style=\"text-align: right;\">\n",
       "      <th></th>\n",
       "      <th>glucose(t+1)</th>\n",
       "      <th>glucose(t+2)</th>\n",
       "      <th>glucose(t+3)</th>\n",
       "      <th>glucose(t+4)</th>\n",
       "      <th>glucose(t+5)</th>\n",
       "    </tr>\n",
       "  </thead>\n",
       "  <tbody>\n",
       "    <tr>\n",
       "      <th>0</th>\n",
       "      <td>130.0</td>\n",
       "      <td>128.0</td>\n",
       "      <td>127.0</td>\n",
       "      <td>124.0</td>\n",
       "      <td>124.0</td>\n",
       "    </tr>\n",
       "    <tr>\n",
       "      <th>1</th>\n",
       "      <td>128.0</td>\n",
       "      <td>127.0</td>\n",
       "      <td>124.0</td>\n",
       "      <td>124.0</td>\n",
       "      <td>130.0</td>\n",
       "    </tr>\n",
       "    <tr>\n",
       "      <th>2</th>\n",
       "      <td>127.0</td>\n",
       "      <td>124.0</td>\n",
       "      <td>124.0</td>\n",
       "      <td>130.0</td>\n",
       "      <td>137.0</td>\n",
       "    </tr>\n",
       "    <tr>\n",
       "      <th>3</th>\n",
       "      <td>124.0</td>\n",
       "      <td>124.0</td>\n",
       "      <td>130.0</td>\n",
       "      <td>137.0</td>\n",
       "      <td>127.0</td>\n",
       "    </tr>\n",
       "    <tr>\n",
       "      <th>4</th>\n",
       "      <td>124.0</td>\n",
       "      <td>130.0</td>\n",
       "      <td>137.0</td>\n",
       "      <td>127.0</td>\n",
       "      <td>117.0</td>\n",
       "    </tr>\n",
       "  </tbody>\n",
       "</table>\n",
       "</div>"
      ],
      "text/plain": [
       "   glucose(t+1)  glucose(t+2)  glucose(t+3)  glucose(t+4)  glucose(t+5)\n",
       "0         130.0         128.0         127.0         124.0         124.0\n",
       "1         128.0         127.0         124.0         124.0         130.0\n",
       "2         127.0         124.0         124.0         130.0         137.0\n",
       "3         124.0         124.0         130.0         137.0         127.0\n",
       "4         124.0         130.0         137.0         127.0         117.0"
      ]
     },
     "execution_count": 18,
     "metadata": {},
     "output_type": "execute_result"
    }
   ],
   "source": [
    "y_train.head()"
   ]
  },
  {
   "cell_type": "markdown",
   "id": "bb98a4c4",
   "metadata": {},
   "source": [
    "### 2. 머신러닝 모델 학습"
   ]
  },
  {
   "cell_type": "code",
   "execution_count": 21,
   "id": "86fd0e21",
   "metadata": {},
   "outputs": [],
   "source": [
    "model = MultiOutputRegressor(XGBRegressor(n_estimators = 1000, learning_rate = 0.05))\n",
    "model.fit(X_train, y_train)\n",
    "\n",
    "y_pred = model.predict(X_test)"
   ]
  },
  {
   "cell_type": "code",
   "execution_count": 22,
   "id": "08832831",
   "metadata": {},
   "outputs": [
    {
     "data": {
      "text/plain": [
       "array([[102.63825 , 103.037285, 101.07857 , 104.01554 , 102.89922 ],\n",
       "       [ 97.19408 ,  98.16224 ,  98.22027 , 101.09115 , 100.73226 ],\n",
       "       [ 99.786125, 101.26943 , 104.015076, 101.49327 , 101.24505 ],\n",
       "       [100.211945, 100.56381 , 100.22047 ,  99.83994 , 100.21078 ],\n",
       "       [103.31671 , 104.199394, 103.70415 , 103.33743 , 105.12857 ],\n",
       "       [117.55769 , 120.506294, 123.05059 , 129.08804 , 130.40166 ],\n",
       "       [125.921974, 134.62483 , 136.4105  , 138.02895 , 147.77855 ],\n",
       "       [151.63914 , 163.72208 , 160.97403 , 163.54333 , 156.73471 ],\n",
       "       [162.8328  , 169.10056 , 170.56621 , 169.05096 , 157.72617 ],\n",
       "       [168.21507 , 168.7992  , 167.68593 , 168.12125 , 161.64325 ],\n",
       "       [165.57076 , 159.51193 , 161.12833 , 154.83452 , 149.34612 ],\n",
       "       [163.35463 , 165.56406 , 162.2705  , 157.49838 , 146.61523 ],\n",
       "       [164.11766 , 162.15073 , 165.57408 , 162.7033  , 153.38837 ],\n",
       "       [165.4829  , 166.66223 , 167.43906 , 162.88974 , 158.40776 ],\n",
       "       [165.28625 , 163.44926 , 164.90018 , 162.13564 , 162.83644 ],\n",
       "       [162.04831 , 160.59984 , 161.32332 , 159.76237 , 157.64128 ],\n",
       "       [160.67317 , 161.4342  , 162.32646 , 161.35419 , 158.81787 ],\n",
       "       [150.75458 , 145.08212 , 148.98488 , 150.30974 , 152.8478  ],\n",
       "       [135.82812 , 132.58652 , 131.9529  , 132.56967 , 136.7329  ],\n",
       "       [127.454254, 125.90594 , 125.12956 , 125.26363 , 130.92561 ],\n",
       "       [118.70805 , 116.06109 , 119.538345, 125.07459 , 127.35426 ],\n",
       "       [110.48983 , 110.601845, 112.71412 , 117.16211 , 123.6507  ],\n",
       "       [117.30269 , 116.87602 , 123.61835 , 131.37479 , 128.04884 ],\n",
       "       [124.301315, 131.13383 , 136.87679 , 134.9885  , 143.32382 ],\n",
       "       [128.5137  , 127.42804 , 133.3245  , 129.05286 , 126.28398 ]],\n",
       "      dtype=float32)"
      ]
     },
     "execution_count": 22,
     "metadata": {},
     "output_type": "execute_result"
    }
   ],
   "source": [
    "y_pred"
   ]
  },
  {
   "cell_type": "code",
   "execution_count": 25,
   "id": "e689a27f",
   "metadata": {},
   "outputs": [],
   "source": [
    "markers = ['X', 'D', 'v', '*', '+']\n",
    "marker_colors = ['#2ca02c', 'r', 'b', 'c', 'tab:purple', 'tab:orange']"
   ]
  },
  {
   "cell_type": "code",
   "execution_count": 27,
   "id": "cd8b9790",
   "metadata": {},
   "outputs": [
    {
     "data": {
      "image/png": "[encoded data removed]",
      "text/plain": [
       "<Figure size 360x360 with 1 Axes>"
      ]
     },
     "metadata": {
      "needs_background": "light"
     },
     "output_type": "display_data"
    }
   ],
   "source": [
    "fig, ax = plt.subplots(figsize = (5, 5))\n",
    "# df_sv[:2735].set_index('timestamp')['glucose(t)'].plot(ax = ax, color = colors[0],\n",
    "#                                                        linewidth=1, label = 'train')\n",
    "df_sv[train_index:].set_index('timestamp')['glucose(t)'].plot(ax = ax, color = colors[1], \n",
    "                                                       linewidth=1, marker = 'o',\n",
    "                                                       label = 'test')\n",
    "\n",
    "for i in range(5):  \n",
    "    pred = y_pred[2*i]#5개 step 예측\n",
    "    df_sv['pred'] = np.nan\n",
    "    df_sv.loc[train_index+2*i:train_index+2*i+4, 'pred']= pred\n",
    "    \n",
    "    df_sv[train_index:].set_index('timestamp')['pred'].plot(ax = ax, linewidth=0, \n",
    "                                                            marker='X', \n",
    "                                                       label='Predictions',\n",
    "                                                       markersize = 9,\n",
    "                                                       markeredgecolor = 'k',\n",
    "                                                       color=marker_colors[i])\n",
    "\n",
    "#plt.legend(fontsize = 14)"
   ]
  },
  {
   "cell_type": "code",
   "execution_count": null,
   "id": "efbb6df1",
   "metadata": {},
   "outputs": [],
   "source": []
  }
 ],
 "metadata": {
  "kernelspec": {
   "display_name": "Python 3 (ipykernel)",
   "language": "python",
   "name": "python3"
  },
  "language_info": {
   "codemirror_mode": {
    "name": "ipython",
    "version": 3
   },
   "file_extension": ".py",
   "mimetype": "text/x-python",
   "name": "python",
   "nbconvert_exporter": "python",
   "pygments_lexer": "ipython3",
   "version": "3.9.12"
  }
 },
 "nbformat": 4,
 "nbformat_minor": 5
}
