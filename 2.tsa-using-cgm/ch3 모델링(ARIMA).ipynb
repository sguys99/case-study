{
 "cells": [
  {
   "cell_type": "markdown",
   "id": "c7a65cec",
   "metadata": {},
   "source": [
    "## ch3 ARIMA"
   ]
  },
  {
   "cell_type": "markdown",
   "id": "62918965",
   "metadata": {},
   "source": [
    "<div style=\"text-align: right\"> <b>Author : Kwang Myung Yu</b></div>\n",
    "<div style=\"text-align: right\\\"> Initial upload: 2022.09.09 </div>\n",
    "<div style=\"text-align: right\\\"> Last update: 2022.09.09</div>"
   ]
  },
  {
   "cell_type": "code",
   "execution_count": 60,
   "id": "9d3f9631",
   "metadata": {},
   "outputs": [],
   "source": [
    "import os\n",
    "import sys\n",
    "import time\n",
    "import numpy as np\n",
    "import pandas as pd\n",
    "import matplotlib.pyplot as plt\n",
    "import seaborn as sns\n",
    "from scipy import stats\n",
    "import warnings; warnings.filterwarnings('ignore')\n",
    "plt.style.use('seaborn-whitegrid')\n",
    "%matplotlib inline"
   ]
  },
  {
   "cell_type": "code",
   "execution_count": 61,
   "id": "37a9bdbf",
   "metadata": {},
   "outputs": [],
   "source": [
    "from statsmodels.graphics.tsaplots import plot_acf, plot_pacf\n",
    "from statsmodels.tsa.statespace.sarimax import SARIMAX\n",
    "from statsmodels.tsa.arima_process import ArmaProcess\n",
    "from statsmodels.tsa.stattools import adfuller\n",
    "from tqdm import tqdm_notebook\n",
    "from itertools import product\n",
    "\n",
    "from statsmodels.tsa.arima_model import ARIMA"
   ]
  },
  {
   "cell_type": "code",
   "execution_count": 62,
   "id": "b167dc4a",
   "metadata": {},
   "outputs": [
    {
     "data": {
      "text/html": [
       "<svg  width=\"550\" height=\"55\"><rect x=\"0\" y=\"0\" width=\"55\" height=\"55\" style=\"fill:#00798c;stroke-width:2;stroke:rgb(255,255,255)\"/><rect x=\"55\" y=\"0\" width=\"55\" height=\"55\" style=\"fill:#d1495b;stroke-width:2;stroke:rgb(255,255,255)\"/><rect x=\"110\" y=\"0\" width=\"55\" height=\"55\" style=\"fill:#edae49;stroke-width:2;stroke:rgb(255,255,255)\"/><rect x=\"165\" y=\"0\" width=\"55\" height=\"55\" style=\"fill:#66a182;stroke-width:2;stroke:rgb(255,255,255)\"/><rect x=\"220\" y=\"0\" width=\"55\" height=\"55\" style=\"fill:#4a4a4a;stroke-width:2;stroke:rgb(255,255,255)\"/><rect x=\"275\" y=\"0\" width=\"55\" height=\"55\" style=\"fill:#1a508b;stroke-width:2;stroke:rgb(255,255,255)\"/><rect x=\"330\" y=\"0\" width=\"55\" height=\"55\" style=\"fill:#e3120b;stroke-width:2;stroke:rgb(255,255,255)\"/><rect x=\"385\" y=\"0\" width=\"55\" height=\"55\" style=\"fill:#c5a880;stroke-width:2;stroke:rgb(255,255,255)\"/><rect x=\"440\" y=\"0\" width=\"55\" height=\"55\" style=\"fill:#9f5f80;stroke-width:2;stroke:rgb(255,255,255)\"/><rect x=\"495\" y=\"0\" width=\"55\" height=\"55\" style=\"fill:#6f9eaf;stroke-width:2;stroke:rgb(255,255,255)\"/></svg>"
      ],
      "text/plain": [
       "[(0.0, 0.4745098039215686, 0.5490196078431373),\n",
       " (0.8196078431372549, 0.28627450980392155, 0.3568627450980392),\n",
       " (0.9294117647058824, 0.6823529411764706, 0.28627450980392155),\n",
       " (0.4, 0.6313725490196078, 0.5098039215686274),\n",
       " (0.2901960784313726, 0.2901960784313726, 0.2901960784313726),\n",
       " (0.10196078431372549, 0.3137254901960784, 0.5450980392156862),\n",
       " (0.8901960784313725, 0.07058823529411765, 0.043137254901960784),\n",
       " (0.7725490196078432, 0.6588235294117647, 0.5019607843137255),\n",
       " (0.6235294117647059, 0.37254901960784315, 0.5019607843137255),\n",
       " (0.43529411764705883, 0.6196078431372549, 0.6862745098039216)]"
      ]
     },
     "execution_count": 62,
     "metadata": {},
     "output_type": "execute_result"
    }
   ],
   "source": [
    "colors = [\"#00798c\", \"#d1495b\", '#edae49', '#66a182', '#4a4a4a',\n",
    "          '#1a508b', '#e3120b', '#c5a880', '#9F5F80', '#6F9EAF',\n",
    "          '#0278ae','#F39233', '#A7C5EB', '#54E346', '#ABCE74',\n",
    "        '#d6b0b1', '#58391c', '#cdd0cb', '#ffb396', '#6930c3']\n",
    "sns.color_palette(colors[:10])"
   ]
  },
  {
   "cell_type": "code",
   "execution_count": 27,
   "id": "a21b2cfc",
   "metadata": {},
   "outputs": [],
   "source": [
    "def load_dexcom_data(path, sampling_time='5min'):\n",
    "    df = pd.read_csv(path)\n",
    "    df = df[df['타임스탬프(YYYY-MM-DDThh:mm:ss)'].notnull()]\n",
    "    df = df.iloc[:,[1, 7]]\n",
    "    df.columns = ['timestamp', 'glucose']\n",
    "    df = df.reset_index(drop = True)\n",
    "    df['timestamp'] = pd.to_datetime(df['timestamp'])\n",
    "    df['timestamp'] = df['timestamp'].dt.round(sampling_time)\n",
    "    df = df.dropna()\n",
    "    idx = pd.date_range(df['timestamp'].min(), df['timestamp'].max(), freq=sampling_time)\n",
    "    df = df.set_index('timestamp').reindex(idx, fill_value=np.nan).reset_index().rename(columns = {'index': 'timestamp'})\n",
    "    \n",
    "    return df"
   ]
  },
  {
   "cell_type": "code",
   "execution_count": 28,
   "id": "07021aa1",
   "metadata": {},
   "outputs": [],
   "source": [
    "def series_to_supervised(data, n_in=1, n_out=1, col_name = 'glucose', dropnan=True):\n",
    "\n",
    "    n_vars = 1 if type(data) is list else data.shape[1]\n",
    "\n",
    "    cols, names = list(), list()\n",
    "\t# input sequence (t-n, ... t-1)\n",
    "    for i in range(n_in, 0, -1):\n",
    "        cols.append(data.shift(i))\n",
    "        names += [(col_name+'(t-%d)' % (i)) for j in range(n_vars)]\n",
    "\t# forecast sequence (t, t+1, ... t+n)\n",
    "    for i in range(0, n_out):\n",
    "        cols.append(data.shift(-i))\n",
    "        if i == 0:\n",
    "            names += [col_name+'(t)']\n",
    "        else:\n",
    "            names += [(col_name+'(t+%d)' % (i)) for j in range(n_vars)]\n",
    "\t# put it all together\n",
    "    agg = pd.concat(cols, axis=1)\n",
    "    agg.columns = names\n",
    "    # drop rows with NaN values\n",
    "    if dropnan:\n",
    "        agg.dropna(inplace=True)\n",
    "    return agg"
   ]
  },
  {
   "cell_type": "markdown",
   "id": "43eb637d",
   "metadata": {},
   "source": [
    "### 1. 데이터 셋 만들기"
   ]
  },
  {
   "cell_type": "code",
   "execution_count": 29,
   "id": "f44f01ba",
   "metadata": {},
   "outputs": [],
   "source": [
    "path = 'dexcom_sample.csv'\n",
    "cgm = load_dexcom_data(path)\n",
    "cgm['glucose_diff'] = cgm['glucose'].diff()\n",
    "cgm = cgm.dropna()\n",
    "df_sv = series_to_supervised(cgm[['glucose']], n_in=4, n_out = 4, dropnan = False)\n",
    "df_sv['timestamp'] = cgm['timestamp']\n",
    "df_sv = df_sv.dropna().reset_index(drop = True)\n",
    "# 일부만 추출\n",
    "df_sv = df_sv.set_index('timestamp').loc[:'2022-06-10 21:15'].reset_index(drop=False)"
   ]
  },
  {
   "cell_type": "code",
   "execution_count": 30,
   "id": "aec59e89",
   "metadata": {},
   "outputs": [
    {
     "data": {
      "text/plain": [
       "(2760, 9)"
      ]
     },
     "execution_count": 30,
     "metadata": {},
     "output_type": "execute_result"
    }
   ],
   "source": [
    "df_sv.shape"
   ]
  },
  {
   "cell_type": "code",
   "execution_count": 31,
   "id": "0681a515",
   "metadata": {},
   "outputs": [
    {
     "data": {
      "text/html": [
       "<div>\n",
       "<style scoped>\n",
       "    .dataframe tbody tr th:only-of-type {\n",
       "        vertical-align: middle;\n",
       "    }\n",
       "\n",
       "    .dataframe tbody tr th {\n",
       "        vertical-align: top;\n",
       "    }\n",
       "\n",
       "    .dataframe thead th {\n",
       "        text-align: right;\n",
       "    }\n",
       "</style>\n",
       "<table border=\"1\" class=\"dataframe\">\n",
       "  <thead>\n",
       "    <tr style=\"text-align: right;\">\n",
       "      <th></th>\n",
       "      <th>timestamp</th>\n",
       "      <th>glucose(t-4)</th>\n",
       "      <th>glucose(t-3)</th>\n",
       "      <th>glucose(t-2)</th>\n",
       "      <th>glucose(t-1)</th>\n",
       "      <th>glucose(t)</th>\n",
       "      <th>glucose(t+1)</th>\n",
       "      <th>glucose(t+2)</th>\n",
       "      <th>glucose(t+3)</th>\n",
       "    </tr>\n",
       "  </thead>\n",
       "  <tbody>\n",
       "    <tr>\n",
       "      <th>0</th>\n",
       "      <td>2022-06-01 07:20:00</td>\n",
       "      <td>122.0</td>\n",
       "      <td>125.0</td>\n",
       "      <td>128.0</td>\n",
       "      <td>129.0</td>\n",
       "      <td>129.0</td>\n",
       "      <td>130.0</td>\n",
       "      <td>128.0</td>\n",
       "      <td>127.0</td>\n",
       "    </tr>\n",
       "    <tr>\n",
       "      <th>1</th>\n",
       "      <td>2022-06-01 07:25:00</td>\n",
       "      <td>125.0</td>\n",
       "      <td>128.0</td>\n",
       "      <td>129.0</td>\n",
       "      <td>129.0</td>\n",
       "      <td>130.0</td>\n",
       "      <td>128.0</td>\n",
       "      <td>127.0</td>\n",
       "      <td>124.0</td>\n",
       "    </tr>\n",
       "    <tr>\n",
       "      <th>2</th>\n",
       "      <td>2022-06-01 07:30:00</td>\n",
       "      <td>128.0</td>\n",
       "      <td>129.0</td>\n",
       "      <td>129.0</td>\n",
       "      <td>130.0</td>\n",
       "      <td>128.0</td>\n",
       "      <td>127.0</td>\n",
       "      <td>124.0</td>\n",
       "      <td>124.0</td>\n",
       "    </tr>\n",
       "    <tr>\n",
       "      <th>3</th>\n",
       "      <td>2022-06-01 07:35:00</td>\n",
       "      <td>129.0</td>\n",
       "      <td>129.0</td>\n",
       "      <td>130.0</td>\n",
       "      <td>128.0</td>\n",
       "      <td>127.0</td>\n",
       "      <td>124.0</td>\n",
       "      <td>124.0</td>\n",
       "      <td>130.0</td>\n",
       "    </tr>\n",
       "    <tr>\n",
       "      <th>4</th>\n",
       "      <td>2022-06-01 07:40:00</td>\n",
       "      <td>129.0</td>\n",
       "      <td>130.0</td>\n",
       "      <td>128.0</td>\n",
       "      <td>127.0</td>\n",
       "      <td>124.0</td>\n",
       "      <td>124.0</td>\n",
       "      <td>130.0</td>\n",
       "      <td>137.0</td>\n",
       "    </tr>\n",
       "  </tbody>\n",
       "</table>\n",
       "</div>"
      ],
      "text/plain": [
       "            timestamp  glucose(t-4)  glucose(t-3)  glucose(t-2)  glucose(t-1)  \\\n",
       "0 2022-06-01 07:20:00         122.0         125.0         128.0         129.0   \n",
       "1 2022-06-01 07:25:00         125.0         128.0         129.0         129.0   \n",
       "2 2022-06-01 07:30:00         128.0         129.0         129.0         130.0   \n",
       "3 2022-06-01 07:35:00         129.0         129.0         130.0         128.0   \n",
       "4 2022-06-01 07:40:00         129.0         130.0         128.0         127.0   \n",
       "\n",
       "   glucose(t)  glucose(t+1)  glucose(t+2)  glucose(t+3)  \n",
       "0       129.0         130.0         128.0         127.0  \n",
       "1       130.0         128.0         127.0         124.0  \n",
       "2       128.0         127.0         124.0         124.0  \n",
       "3       127.0         124.0         124.0         130.0  \n",
       "4       124.0         124.0         130.0         137.0  "
      ]
     },
     "execution_count": 31,
     "metadata": {},
     "output_type": "execute_result"
    }
   ],
   "source": [
    "df_sv.head()"
   ]
  },
  {
   "cell_type": "code",
   "execution_count": 32,
   "id": "04c8d02d",
   "metadata": {},
   "outputs": [],
   "source": [
    "train_index = 2735"
   ]
  },
  {
   "cell_type": "code",
   "execution_count": 33,
   "id": "8860ea18",
   "metadata": {},
   "outputs": [
    {
     "data": {
      "image/png": "[encoded data removed]",
      "text/plain": [
       "<Figure size 1008x360 with 1 Axes>"
      ]
     },
     "metadata": {
      "needs_background": "light"
     },
     "output_type": "display_data"
    }
   ],
   "source": [
    "fig, ax = plt.subplots(figsize = (14, 5))\n",
    "df_sv[:train_index].set_index('timestamp')['glucose(t)'].plot(ax = ax, color = colors[0],\n",
    "                                                       linewidth=1, label = 'train')\n",
    "df_sv[train_index:].set_index('timestamp')['glucose(t)'].plot(ax = ax, color = colors[1], \n",
    "                                                       linewidth=1, label = 'test')\n",
    "plt.legend(fontsize = 14)\n",
    "plt.show()"
   ]
  },
  {
   "cell_type": "code",
   "execution_count": 34,
   "id": "ffc67672",
   "metadata": {},
   "outputs": [
    {
     "data": {
      "image/png": "[encoded data removed]",
      "text/plain": [
       "<Figure size 360x360 with 1 Axes>"
      ]
     },
     "metadata": {
      "needs_background": "light"
     },
     "output_type": "display_data"
    }
   ],
   "source": [
    "fig, ax = plt.subplots(figsize = (5, 5))\n",
    "# df_sv[:2735].set_index('timestamp')['glucose(t)'].plot(ax = ax, color = colors[0],\n",
    "#                                                        linewidth=1, label = 'train')\n",
    "df_sv[train_index:].set_index('timestamp')['glucose(t)'].plot(ax = ax, color = colors[1], \n",
    "                                                       linewidth=1, marker = 'o',\n",
    "                                                       label = 'test')\n",
    "plt.legend(fontsize = 14)\n",
    "plt.show()"
   ]
  },
  {
   "cell_type": "code",
   "execution_count": 35,
   "id": "1f1d7bce",
   "metadata": {},
   "outputs": [],
   "source": [
    "train = df_sv[['timestamp', 'glucose(t)']][:train_index]\n",
    "test = df_sv[['timestamp', 'glucose(t)']][train_index:]"
   ]
  },
  {
   "cell_type": "code",
   "execution_count": 36,
   "id": "3febc796",
   "metadata": {},
   "outputs": [
    {
     "data": {
      "text/html": [
       "<div>\n",
       "<style scoped>\n",
       "    .dataframe tbody tr th:only-of-type {\n",
       "        vertical-align: middle;\n",
       "    }\n",
       "\n",
       "    .dataframe tbody tr th {\n",
       "        vertical-align: top;\n",
       "    }\n",
       "\n",
       "    .dataframe thead th {\n",
       "        text-align: right;\n",
       "    }\n",
       "</style>\n",
       "<table border=\"1\" class=\"dataframe\">\n",
       "  <thead>\n",
       "    <tr style=\"text-align: right;\">\n",
       "      <th></th>\n",
       "      <th>timestamp</th>\n",
       "      <th>glucose(t)</th>\n",
       "    </tr>\n",
       "  </thead>\n",
       "  <tbody>\n",
       "    <tr>\n",
       "      <th>0</th>\n",
       "      <td>2022-06-01 07:20:00</td>\n",
       "      <td>129.0</td>\n",
       "    </tr>\n",
       "    <tr>\n",
       "      <th>1</th>\n",
       "      <td>2022-06-01 07:25:00</td>\n",
       "      <td>130.0</td>\n",
       "    </tr>\n",
       "    <tr>\n",
       "      <th>2</th>\n",
       "      <td>2022-06-01 07:30:00</td>\n",
       "      <td>128.0</td>\n",
       "    </tr>\n",
       "    <tr>\n",
       "      <th>3</th>\n",
       "      <td>2022-06-01 07:35:00</td>\n",
       "      <td>127.0</td>\n",
       "    </tr>\n",
       "    <tr>\n",
       "      <th>4</th>\n",
       "      <td>2022-06-01 07:40:00</td>\n",
       "      <td>124.0</td>\n",
       "    </tr>\n",
       "  </tbody>\n",
       "</table>\n",
       "</div>"
      ],
      "text/plain": [
       "            timestamp  glucose(t)\n",
       "0 2022-06-01 07:20:00       129.0\n",
       "1 2022-06-01 07:25:00       130.0\n",
       "2 2022-06-01 07:30:00       128.0\n",
       "3 2022-06-01 07:35:00       127.0\n",
       "4 2022-06-01 07:40:00       124.0"
      ]
     },
     "execution_count": 36,
     "metadata": {},
     "output_type": "execute_result"
    }
   ],
   "source": [
    "train.head()"
   ]
  },
  {
   "cell_type": "code",
   "execution_count": 37,
   "id": "0222636f",
   "metadata": {},
   "outputs": [
    {
     "data": {
      "text/html": [
       "<div>\n",
       "<style scoped>\n",
       "    .dataframe tbody tr th:only-of-type {\n",
       "        vertical-align: middle;\n",
       "    }\n",
       "\n",
       "    .dataframe tbody tr th {\n",
       "        vertical-align: top;\n",
       "    }\n",
       "\n",
       "    .dataframe thead th {\n",
       "        text-align: right;\n",
       "    }\n",
       "</style>\n",
       "<table border=\"1\" class=\"dataframe\">\n",
       "  <thead>\n",
       "    <tr style=\"text-align: right;\">\n",
       "      <th></th>\n",
       "      <th>timestamp</th>\n",
       "      <th>glucose(t)</th>\n",
       "    </tr>\n",
       "  </thead>\n",
       "  <tbody>\n",
       "    <tr>\n",
       "      <th>2730</th>\n",
       "      <td>2022-06-10 18:50:00</td>\n",
       "      <td>106.0</td>\n",
       "    </tr>\n",
       "    <tr>\n",
       "      <th>2731</th>\n",
       "      <td>2022-06-10 18:55:00</td>\n",
       "      <td>105.0</td>\n",
       "    </tr>\n",
       "    <tr>\n",
       "      <th>2732</th>\n",
       "      <td>2022-06-10 19:00:00</td>\n",
       "      <td>102.0</td>\n",
       "    </tr>\n",
       "    <tr>\n",
       "      <th>2733</th>\n",
       "      <td>2022-06-10 19:05:00</td>\n",
       "      <td>100.0</td>\n",
       "    </tr>\n",
       "    <tr>\n",
       "      <th>2734</th>\n",
       "      <td>2022-06-10 19:10:00</td>\n",
       "      <td>101.0</td>\n",
       "    </tr>\n",
       "  </tbody>\n",
       "</table>\n",
       "</div>"
      ],
      "text/plain": [
       "               timestamp  glucose(t)\n",
       "2730 2022-06-10 18:50:00       106.0\n",
       "2731 2022-06-10 18:55:00       105.0\n",
       "2732 2022-06-10 19:00:00       102.0\n",
       "2733 2022-06-10 19:05:00       100.0\n",
       "2734 2022-06-10 19:10:00       101.0"
      ]
     },
     "execution_count": 37,
     "metadata": {},
     "output_type": "execute_result"
    }
   ],
   "source": [
    "train.tail()"
   ]
  },
  {
   "cell_type": "code",
   "execution_count": 38,
   "id": "b257ee4b",
   "metadata": {},
   "outputs": [
    {
     "name": "stdout",
     "output_type": "stream",
     "text": [
      "(2735, 2)\n",
      "(25, 2)\n"
     ]
    }
   ],
   "source": [
    "print(train.shape)\n",
    "print(test.shape)"
   ]
  },
  {
   "cell_type": "markdown",
   "id": "d2561a09",
   "metadata": {},
   "source": [
    "### 2. p, d, q 찾기"
   ]
  },
  {
   "cell_type": "code",
   "execution_count": 39,
   "id": "b920f640",
   "metadata": {
    "scrolled": true
   },
   "outputs": [
    {
     "data": {
      "text/plain": [
       "[(0, 0, 0),\n",
       " (0, 0, 1),\n",
       " (0, 0, 2),\n",
       " (0, 0, 3),\n",
       " (0, 0, 4),\n",
       " (0, 1, 0),\n",
       " (0, 1, 1),\n",
       " (0, 1, 2),\n",
       " (0, 1, 3),\n",
       " (0, 1, 4),\n",
       " (1, 0, 0),\n",
       " (1, 0, 1),\n",
       " (1, 0, 2),\n",
       " (1, 0, 3),\n",
       " (1, 0, 4),\n",
       " (1, 1, 0),\n",
       " (1, 1, 1),\n",
       " (1, 1, 2),\n",
       " (1, 1, 3),\n",
       " (1, 1, 4),\n",
       " (2, 0, 0),\n",
       " (2, 0, 1),\n",
       " (2, 0, 2),\n",
       " (2, 0, 3),\n",
       " (2, 0, 4),\n",
       " (2, 1, 0),\n",
       " (2, 1, 1),\n",
       " (2, 1, 2),\n",
       " (2, 1, 3),\n",
       " (2, 1, 4),\n",
       " (3, 0, 0),\n",
       " (3, 0, 1),\n",
       " (3, 0, 2),\n",
       " (3, 0, 3),\n",
       " (3, 0, 4),\n",
       " (3, 1, 0),\n",
       " (3, 1, 1),\n",
       " (3, 1, 2),\n",
       " (3, 1, 3),\n",
       " (3, 1, 4),\n",
       " (4, 0, 0),\n",
       " (4, 0, 1),\n",
       " (4, 0, 2),\n",
       " (4, 0, 3),\n",
       " (4, 0, 4),\n",
       " (4, 1, 0),\n",
       " (4, 1, 1),\n",
       " (4, 1, 2),\n",
       " (4, 1, 3),\n",
       " (4, 1, 4)]"
      ]
     },
     "execution_count": 39,
     "metadata": {},
     "output_type": "execute_result"
    }
   ],
   "source": [
    "ps = range(0, 5, 1)\n",
    "qs = range(0, 5, 1)\n",
    "ds = range(0, 2, 1)\n",
    "\n",
    "order_list = list(product(ps, ds, qs))\n",
    "order_list"
   ]
  },
  {
   "cell_type": "code",
   "execution_count": 43,
   "id": "db31ba70",
   "metadata": {},
   "outputs": [],
   "source": [
    "from typing import Union\n",
    "\n",
    "def optimize_ARIMA(endog: Union[pd.Series, list], order_list: list) -> pd.DataFrame:\n",
    "    \n",
    "    results = []\n",
    "    \n",
    "    for order in tqdm_notebook(order_list):\n",
    "        try: \n",
    "            model = SARIMAX(endog, order=(order[0], order[1], order[2]), simple_differencing=False).fit(disp=False)\n",
    "        except:\n",
    "            continue\n",
    "            \n",
    "        aic = model.aic\n",
    "        results.append([order, aic])\n",
    "        \n",
    "    result_df = pd.DataFrame(results)\n",
    "    result_df.columns = ['(p,d, q)', 'AIC']\n",
    "    \n",
    "    #Sort in ascending order, lower AIC is better\n",
    "    result_df = result_df.sort_values(by='AIC', ascending=True).reset_index(drop=True)\n",
    "    \n",
    "    return result_df"
   ]
  },
  {
   "cell_type": "code",
   "execution_count": 44,
   "id": "e0fc27a5",
   "metadata": {},
   "outputs": [
    {
     "data": {
      "application/vnd.jupyter.widget-view+json": {
       "model_id": "d27625825b044d3881cc2077997c2257",
       "version_major": 2,
       "version_minor": 0
      },
      "text/plain": [
       "  0%|          | 0/50 [00:00<?, ?it/s]"
      ]
     },
     "metadata": {},
     "output_type": "display_data"
    }
   ],
   "source": [
    "result = optimize_ARIMA(train['glucose(t)'], order_list)"
   ]
  },
  {
   "cell_type": "code",
   "execution_count": 45,
   "id": "0a124b2d",
   "metadata": {
    "scrolled": true
   },
   "outputs": [
    {
     "data": {
      "text/html": [
       "<div>\n",
       "<style scoped>\n",
       "    .dataframe tbody tr th:only-of-type {\n",
       "        vertical-align: middle;\n",
       "    }\n",
       "\n",
       "    .dataframe tbody tr th {\n",
       "        vertical-align: top;\n",
       "    }\n",
       "\n",
       "    .dataframe thead th {\n",
       "        text-align: right;\n",
       "    }\n",
       "</style>\n",
       "<table border=\"1\" class=\"dataframe\">\n",
       "  <thead>\n",
       "    <tr style=\"text-align: right;\">\n",
       "      <th></th>\n",
       "      <th>(p,d, q)</th>\n",
       "      <th>AIC</th>\n",
       "    </tr>\n",
       "  </thead>\n",
       "  <tbody>\n",
       "    <tr>\n",
       "      <th>0</th>\n",
       "      <td>(4, 1, 3)</td>\n",
       "      <td>12750.441986</td>\n",
       "    </tr>\n",
       "    <tr>\n",
       "      <th>1</th>\n",
       "      <td>(4, 1, 1)</td>\n",
       "      <td>12759.075456</td>\n",
       "    </tr>\n",
       "    <tr>\n",
       "      <th>2</th>\n",
       "      <td>(2, 1, 4)</td>\n",
       "      <td>12761.322766</td>\n",
       "    </tr>\n",
       "    <tr>\n",
       "      <th>3</th>\n",
       "      <td>(1, 1, 4)</td>\n",
       "      <td>12770.993652</td>\n",
       "    </tr>\n",
       "    <tr>\n",
       "      <th>4</th>\n",
       "      <td>(2, 1, 1)</td>\n",
       "      <td>12771.278911</td>\n",
       "    </tr>\n",
       "    <tr>\n",
       "      <th>5</th>\n",
       "      <td>(3, 1, 1)</td>\n",
       "      <td>12771.815809</td>\n",
       "    </tr>\n",
       "    <tr>\n",
       "      <th>6</th>\n",
       "      <td>(2, 1, 2)</td>\n",
       "      <td>12771.932085</td>\n",
       "    </tr>\n",
       "    <tr>\n",
       "      <th>7</th>\n",
       "      <td>(3, 1, 2)</td>\n",
       "      <td>12772.389422</td>\n",
       "    </tr>\n",
       "    <tr>\n",
       "      <th>8</th>\n",
       "      <td>(2, 1, 3)</td>\n",
       "      <td>12773.085138</td>\n",
       "    </tr>\n",
       "    <tr>\n",
       "      <th>9</th>\n",
       "      <td>(4, 1, 2)</td>\n",
       "      <td>12773.608138</td>\n",
       "    </tr>\n",
       "    <tr>\n",
       "      <th>10</th>\n",
       "      <td>(3, 1, 4)</td>\n",
       "      <td>12773.625344</td>\n",
       "    </tr>\n",
       "    <tr>\n",
       "      <th>11</th>\n",
       "      <td>(3, 1, 3)</td>\n",
       "      <td>12773.701501</td>\n",
       "    </tr>\n",
       "    <tr>\n",
       "      <th>12</th>\n",
       "      <td>(4, 1, 4)</td>\n",
       "      <td>12776.404929</td>\n",
       "    </tr>\n",
       "    <tr>\n",
       "      <th>13</th>\n",
       "      <td>(3, 0, 1)</td>\n",
       "      <td>12784.967880</td>\n",
       "    </tr>\n",
       "    <tr>\n",
       "      <th>14</th>\n",
       "      <td>(4, 0, 1)</td>\n",
       "      <td>12785.581908</td>\n",
       "    </tr>\n",
       "    <tr>\n",
       "      <th>15</th>\n",
       "      <td>(3, 0, 2)</td>\n",
       "      <td>12785.884544</td>\n",
       "    </tr>\n",
       "    <tr>\n",
       "      <th>16</th>\n",
       "      <td>(4, 0, 2)</td>\n",
       "      <td>12786.123345</td>\n",
       "    </tr>\n",
       "    <tr>\n",
       "      <th>17</th>\n",
       "      <td>(3, 0, 3)</td>\n",
       "      <td>12786.979479</td>\n",
       "    </tr>\n",
       "    <tr>\n",
       "      <th>18</th>\n",
       "      <td>(4, 0, 4)</td>\n",
       "      <td>12787.507025</td>\n",
       "    </tr>\n",
       "    <tr>\n",
       "      <th>19</th>\n",
       "      <td>(4, 1, 0)</td>\n",
       "      <td>12801.438921</td>\n",
       "    </tr>\n",
       "    <tr>\n",
       "      <th>20</th>\n",
       "      <td>(3, 1, 0)</td>\n",
       "      <td>12814.296144</td>\n",
       "    </tr>\n",
       "    <tr>\n",
       "      <th>21</th>\n",
       "      <td>(0, 1, 4)</td>\n",
       "      <td>12822.991913</td>\n",
       "    </tr>\n",
       "    <tr>\n",
       "      <th>22</th>\n",
       "      <td>(1, 1, 3)</td>\n",
       "      <td>12823.397820</td>\n",
       "    </tr>\n",
       "    <tr>\n",
       "      <th>23</th>\n",
       "      <td>(0, 1, 3)</td>\n",
       "      <td>12824.879438</td>\n",
       "    </tr>\n",
       "    <tr>\n",
       "      <th>24</th>\n",
       "      <td>(4, 0, 0)</td>\n",
       "      <td>12827.137540</td>\n",
       "    </tr>\n",
       "    <tr>\n",
       "      <th>25</th>\n",
       "      <td>(1, 1, 2)</td>\n",
       "      <td>12831.367174</td>\n",
       "    </tr>\n",
       "    <tr>\n",
       "      <th>26</th>\n",
       "      <td>(2, 1, 0)</td>\n",
       "      <td>12833.641503</td>\n",
       "    </tr>\n",
       "    <tr>\n",
       "      <th>27</th>\n",
       "      <td>(1, 0, 4)</td>\n",
       "      <td>12835.595592</td>\n",
       "    </tr>\n",
       "    <tr>\n",
       "      <th>28</th>\n",
       "      <td>(2, 0, 3)</td>\n",
       "      <td>12836.783212</td>\n",
       "    </tr>\n",
       "    <tr>\n",
       "      <th>29</th>\n",
       "      <td>(1, 0, 3)</td>\n",
       "      <td>12837.616929</td>\n",
       "    </tr>\n",
       "    <tr>\n",
       "      <th>30</th>\n",
       "      <td>(3, 0, 4)</td>\n",
       "      <td>12838.719224</td>\n",
       "    </tr>\n",
       "    <tr>\n",
       "      <th>31</th>\n",
       "      <td>(2, 0, 4)</td>\n",
       "      <td>12842.005936</td>\n",
       "    </tr>\n",
       "    <tr>\n",
       "      <th>32</th>\n",
       "      <td>(1, 1, 1)</td>\n",
       "      <td>12843.036859</td>\n",
       "    </tr>\n",
       "    <tr>\n",
       "      <th>33</th>\n",
       "      <td>(2, 0, 2)</td>\n",
       "      <td>12843.887966</td>\n",
       "    </tr>\n",
       "    <tr>\n",
       "      <th>34</th>\n",
       "      <td>(3, 0, 0)</td>\n",
       "      <td>12846.186587</td>\n",
       "    </tr>\n",
       "    <tr>\n",
       "      <th>35</th>\n",
       "      <td>(4, 0, 3)</td>\n",
       "      <td>12854.404836</td>\n",
       "    </tr>\n",
       "    <tr>\n",
       "      <th>36</th>\n",
       "      <td>(2, 0, 1)</td>\n",
       "      <td>12855.431337</td>\n",
       "    </tr>\n",
       "    <tr>\n",
       "      <th>37</th>\n",
       "      <td>(1, 1, 0)</td>\n",
       "      <td>12875.139234</td>\n",
       "    </tr>\n",
       "    <tr>\n",
       "      <th>38</th>\n",
       "      <td>(2, 0, 0)</td>\n",
       "      <td>12887.171155</td>\n",
       "    </tr>\n",
       "    <tr>\n",
       "      <th>39</th>\n",
       "      <td>(0, 1, 2)</td>\n",
       "      <td>12892.317199</td>\n",
       "    </tr>\n",
       "    <tr>\n",
       "      <th>40</th>\n",
       "      <td>(1, 0, 2)</td>\n",
       "      <td>12905.486667</td>\n",
       "    </tr>\n",
       "    <tr>\n",
       "      <th>41</th>\n",
       "      <td>(0, 1, 1)</td>\n",
       "      <td>13138.937474</td>\n",
       "    </tr>\n",
       "    <tr>\n",
       "      <th>42</th>\n",
       "      <td>(1, 0, 1)</td>\n",
       "      <td>13152.400730</td>\n",
       "    </tr>\n",
       "    <tr>\n",
       "      <th>43</th>\n",
       "      <td>(0, 1, 0)</td>\n",
       "      <td>14212.083528</td>\n",
       "    </tr>\n",
       "    <tr>\n",
       "      <th>44</th>\n",
       "      <td>(1, 0, 0)</td>\n",
       "      <td>14225.935268</td>\n",
       "    </tr>\n",
       "    <tr>\n",
       "      <th>45</th>\n",
       "      <td>(0, 0, 4)</td>\n",
       "      <td>21675.946609</td>\n",
       "    </tr>\n",
       "    <tr>\n",
       "      <th>46</th>\n",
       "      <td>(0, 0, 3)</td>\n",
       "      <td>24695.038239</td>\n",
       "    </tr>\n",
       "    <tr>\n",
       "      <th>47</th>\n",
       "      <td>(0, 0, 2)</td>\n",
       "      <td>26626.146682</td>\n",
       "    </tr>\n",
       "    <tr>\n",
       "      <th>48</th>\n",
       "      <td>(0, 0, 1)</td>\n",
       "      <td>30014.779258</td>\n",
       "    </tr>\n",
       "    <tr>\n",
       "      <th>49</th>\n",
       "      <td>(0, 0, 0)</td>\n",
       "      <td>33761.479710</td>\n",
       "    </tr>\n",
       "  </tbody>\n",
       "</table>\n",
       "</div>"
      ],
      "text/plain": [
       "     (p,d, q)           AIC\n",
       "0   (4, 1, 3)  12750.441986\n",
       "1   (4, 1, 1)  12759.075456\n",
       "2   (2, 1, 4)  12761.322766\n",
       "3   (1, 1, 4)  12770.993652\n",
       "4   (2, 1, 1)  12771.278911\n",
       "5   (3, 1, 1)  12771.815809\n",
       "6   (2, 1, 2)  12771.932085\n",
       "7   (3, 1, 2)  12772.389422\n",
       "8   (2, 1, 3)  12773.085138\n",
       "9   (4, 1, 2)  12773.608138\n",
       "10  (3, 1, 4)  12773.625344\n",
       "11  (3, 1, 3)  12773.701501\n",
       "12  (4, 1, 4)  12776.404929\n",
       "13  (3, 0, 1)  12784.967880\n",
       "14  (4, 0, 1)  12785.581908\n",
       "15  (3, 0, 2)  12785.884544\n",
       "16  (4, 0, 2)  12786.123345\n",
       "17  (3, 0, 3)  12786.979479\n",
       "18  (4, 0, 4)  12787.507025\n",
       "19  (4, 1, 0)  12801.438921\n",
       "20  (3, 1, 0)  12814.296144\n",
       "21  (0, 1, 4)  12822.991913\n",
       "22  (1, 1, 3)  12823.397820\n",
       "23  (0, 1, 3)  12824.879438\n",
       "24  (4, 0, 0)  12827.137540\n",
       "25  (1, 1, 2)  12831.367174\n",
       "26  (2, 1, 0)  12833.641503\n",
       "27  (1, 0, 4)  12835.595592\n",
       "28  (2, 0, 3)  12836.783212\n",
       "29  (1, 0, 3)  12837.616929\n",
       "30  (3, 0, 4)  12838.719224\n",
       "31  (2, 0, 4)  12842.005936\n",
       "32  (1, 1, 1)  12843.036859\n",
       "33  (2, 0, 2)  12843.887966\n",
       "34  (3, 0, 0)  12846.186587\n",
       "35  (4, 0, 3)  12854.404836\n",
       "36  (2, 0, 1)  12855.431337\n",
       "37  (1, 1, 0)  12875.139234\n",
       "38  (2, 0, 0)  12887.171155\n",
       "39  (0, 1, 2)  12892.317199\n",
       "40  (1, 0, 2)  12905.486667\n",
       "41  (0, 1, 1)  13138.937474\n",
       "42  (1, 0, 1)  13152.400730\n",
       "43  (0, 1, 0)  14212.083528\n",
       "44  (1, 0, 0)  14225.935268\n",
       "45  (0, 0, 4)  21675.946609\n",
       "46  (0, 0, 3)  24695.038239\n",
       "47  (0, 0, 2)  26626.146682\n",
       "48  (0, 0, 1)  30014.779258\n",
       "49  (0, 0, 0)  33761.479710"
      ]
     },
     "execution_count": 45,
     "metadata": {},
     "output_type": "execute_result"
    }
   ],
   "source": [
    "result"
   ]
  },
  {
   "cell_type": "markdown",
   "id": "75e573e6",
   "metadata": {},
   "source": [
    "- p, d, q 를 (4, 1, 3)으로 설정"
   ]
  },
  {
   "cell_type": "code",
   "execution_count": 46,
   "id": "b5ce68c9",
   "metadata": {},
   "outputs": [
    {
     "name": "stdout",
     "output_type": "stream",
     "text": [
      "                               SARIMAX Results                                \n",
      "==============================================================================\n",
      "Dep. Variable:             glucose(t)   No. Observations:                 2735\n",
      "Model:               SARIMAX(4, 1, 3)   Log Likelihood               -6367.221\n",
      "Date:                Mon, 12 Sep 2022   AIC                          12750.442\n",
      "Time:                        20:11:45   BIC                          12797.750\n",
      "Sample:                             0   HQIC                         12767.539\n",
      "                               - 2735                                         \n",
      "Covariance Type:                  opg                                         \n",
      "==============================================================================\n",
      "                 coef    std err          z      P>|z|      [0.025      0.975]\n",
      "------------------------------------------------------------------------------\n",
      "ar.L1          1.3869      4.813      0.288      0.773      -8.047      10.821\n",
      "ar.L2          0.4471     11.489      0.039      0.969     -22.072      22.966\n",
      "ar.L3         -1.3914      9.339     -0.149      0.882     -19.695      16.912\n",
      "ar.L4          0.5484      2.641      0.208      0.835      -4.628       5.724\n",
      "ma.L1         -0.7305     14.838     -0.049      0.961     -29.813      28.352\n",
      "ma.L2         -0.9994     25.676     -0.039      0.969     -51.324      49.326\n",
      "ma.L3          0.7311     10.848      0.067      0.946     -20.530      21.992\n",
      "sigma2         6.1748     61.891      0.100      0.921    -115.130     127.480\n",
      "===================================================================================\n",
      "Ljung-Box (L1) (Q):                   0.02   Jarque-Bera (JB):              2398.26\n",
      "Prob(Q):                              0.89   Prob(JB):                         0.00\n",
      "Heteroskedasticity (H):               0.82   Skew:                             0.26\n",
      "Prob(H) (two-sided):                  0.00   Kurtosis:                         7.56\n",
      "===================================================================================\n",
      "\n",
      "Warnings:\n",
      "[1] Covariance matrix calculated using the outer product of gradients (complex-step).\n"
     ]
    }
   ],
   "source": [
    "model = SARIMAX(train['glucose(t)'], order=(4,1,3), simple_differencing=False)\n",
    "model = model.fit(disp=False)\n",
    "\n",
    "print(model.summary())"
   ]
  },
  {
   "cell_type": "code",
   "execution_count": 47,
   "id": "47c1c08a",
   "metadata": {},
   "outputs": [
    {
     "data": {
      "image/png": "[encoded data removed]",
      "text/plain": [
       "<Figure size 864x576 with 4 Axes>"
      ]
     },
     "metadata": {
      "needs_background": "light"
     },
     "output_type": "display_data"
    }
   ],
   "source": [
    "model.plot_diagnostics(figsize=(12,8));"
   ]
  },
  {
   "cell_type": "markdown",
   "id": "0476c190",
   "metadata": {},
   "source": [
    "### 3. ARIMA(4, 1, 3) 모델 학습하기"
   ]
  },
  {
   "cell_type": "code",
   "execution_count": 52,
   "id": "ced2d1d6",
   "metadata": {},
   "outputs": [],
   "source": [
    "order = (4, 1, 3)\n",
    "model = ARIMA(train['glucose(t)'], order=order)\n",
    "model = model.fit()"
   ]
  },
  {
   "cell_type": "code",
   "execution_count": 53,
   "id": "73d43fe7",
   "metadata": {},
   "outputs": [
    {
     "data": {
      "text/html": [
       "<table class=\"simpletable\">\n",
       "<caption>ARIMA Model Results</caption>\n",
       "<tr>\n",
       "  <th>Dep. Variable:</th>   <td>D.glucose(t)</td>   <th>  No. Observations:  </th>   <td>2734</td>   \n",
       "</tr>\n",
       "<tr>\n",
       "  <th>Model:</th>          <td>ARIMA(4, 1, 3)</td>  <th>  Log Likelihood     </th> <td>-6364.462</td>\n",
       "</tr>\n",
       "<tr>\n",
       "  <th>Method:</th>             <td>css-mle</td>     <th>  S.D. of innovations</th>   <td>2.480</td>  \n",
       "</tr>\n",
       "<tr>\n",
       "  <th>Date:</th>          <td>Mon, 12 Sep 2022</td> <th>  AIC                </th> <td>12746.925</td>\n",
       "</tr>\n",
       "<tr>\n",
       "  <th>Time:</th>              <td>20:15:07</td>     <th>  BIC                </th> <td>12800.146</td>\n",
       "</tr>\n",
       "<tr>\n",
       "  <th>Sample:</th>                <td>1</td>        <th>  HQIC               </th> <td>12766.159</td>\n",
       "</tr>\n",
       "<tr>\n",
       "  <th></th>                       <td> </td>        <th>                     </th>     <td> </td>    \n",
       "</tr>\n",
       "</table>\n",
       "<table class=\"simpletable\">\n",
       "<tr>\n",
       "           <td></td>             <th>coef</th>     <th>std err</th>      <th>z</th>      <th>P>|z|</th>  <th>[0.025</th>    <th>0.975]</th>  \n",
       "</tr>\n",
       "<tr>\n",
       "  <th>const</th>              <td>    0.0028</td> <td>    0.003</td> <td>    0.848</td> <td> 0.397</td> <td>   -0.004</td> <td>    0.009</td>\n",
       "</tr>\n",
       "<tr>\n",
       "  <th>ar.L1.D.glucose(t)</th> <td>    1.4090</td> <td>    0.059</td> <td>   23.893</td> <td> 0.000</td> <td>    1.293</td> <td>    1.525</td>\n",
       "</tr>\n",
       "<tr>\n",
       "  <th>ar.L2.D.glucose(t)</th> <td>    0.4010</td> <td>    0.067</td> <td>    6.010</td> <td> 0.000</td> <td>    0.270</td> <td>    0.532</td>\n",
       "</tr>\n",
       "<tr>\n",
       "  <th>ar.L3.D.glucose(t)</th> <td>   -1.3589</td> <td>    0.107</td> <td>  -12.737</td> <td> 0.000</td> <td>   -1.568</td> <td>   -1.150</td>\n",
       "</tr>\n",
       "<tr>\n",
       "  <th>ar.L4.D.glucose(t)</th> <td>    0.5397</td> <td>    0.049</td> <td>   11.089</td> <td> 0.000</td> <td>    0.444</td> <td>    0.635</td>\n",
       "</tr>\n",
       "<tr>\n",
       "  <th>ma.L1.D.glucose(t)</th> <td>   -0.7506</td> <td>    0.064</td> <td>  -11.775</td> <td> 0.000</td> <td>   -0.876</td> <td>   -0.626</td>\n",
       "</tr>\n",
       "<tr>\n",
       "  <th>ma.L2.D.glucose(t)</th> <td>   -0.9779</td> <td>    0.045</td> <td>  -21.698</td> <td> 0.000</td> <td>   -1.066</td> <td>   -0.890</td>\n",
       "</tr>\n",
       "<tr>\n",
       "  <th>ma.L3.D.glucose(t)</th> <td>    0.7286</td> <td>    0.081</td> <td>    8.961</td> <td> 0.000</td> <td>    0.569</td> <td>    0.888</td>\n",
       "</tr>\n",
       "</table>\n",
       "<table class=\"simpletable\">\n",
       "<caption>Roots</caption>\n",
       "<tr>\n",
       "    <td></td>   <th>            Real</th>  <th>         Imaginary</th> <th>         Modulus</th>  <th>        Frequency</th>\n",
       "</tr>\n",
       "<tr>\n",
       "  <th>AR.1</th> <td>          -1.0189</td> <td>          -0.0000j</td> <td>           1.0189</td> <td>          -0.5000</td>\n",
       "</tr>\n",
       "<tr>\n",
       "  <th>AR.2</th> <td>           1.0331</td> <td>          -0.0000j</td> <td>           1.0331</td> <td>          -0.0000</td>\n",
       "</tr>\n",
       "<tr>\n",
       "  <th>AR.3</th> <td>           1.2520</td> <td>          -0.4391j</td> <td>           1.3268</td> <td>          -0.0537</td>\n",
       "</tr>\n",
       "<tr>\n",
       "  <th>AR.4</th> <td>           1.2520</td> <td>          +0.4391j</td> <td>           1.3268</td> <td>           0.0537</td>\n",
       "</tr>\n",
       "<tr>\n",
       "  <th>MA.1</th> <td>          -1.0128</td> <td>          +0.0000j</td> <td>           1.0128</td> <td>           0.5000</td>\n",
       "</tr>\n",
       "<tr>\n",
       "  <th>MA.2</th> <td>           1.0001</td> <td>          +0.0000j</td> <td>           1.0001</td> <td>           0.0000</td>\n",
       "</tr>\n",
       "<tr>\n",
       "  <th>MA.3</th> <td>           1.3548</td> <td>          +0.0000j</td> <td>           1.3548</td> <td>           0.0000</td>\n",
       "</tr>\n",
       "</table>"
      ],
      "text/plain": [
       "<class 'statsmodels.iolib.summary.Summary'>\n",
       "\"\"\"\n",
       "                             ARIMA Model Results                              \n",
       "==============================================================================\n",
       "Dep. Variable:           D.glucose(t)   No. Observations:                 2734\n",
       "Model:                 ARIMA(4, 1, 3)   Log Likelihood               -6364.462\n",
       "Method:                       css-mle   S.D. of innovations              2.480\n",
       "Date:                Mon, 12 Sep 2022   AIC                          12746.925\n",
       "Time:                        20:15:07   BIC                          12800.146\n",
       "Sample:                             1   HQIC                         12766.159\n",
       "                                                                              \n",
       "======================================================================================\n",
       "                         coef    std err          z      P>|z|      [0.025      0.975]\n",
       "--------------------------------------------------------------------------------------\n",
       "const                  0.0028      0.003      0.848      0.397      -0.004       0.009\n",
       "ar.L1.D.glucose(t)     1.4090      0.059     23.893      0.000       1.293       1.525\n",
       "ar.L2.D.glucose(t)     0.4010      0.067      6.010      0.000       0.270       0.532\n",
       "ar.L3.D.glucose(t)    -1.3589      0.107    -12.737      0.000      -1.568      -1.150\n",
       "ar.L4.D.glucose(t)     0.5397      0.049     11.089      0.000       0.444       0.635\n",
       "ma.L1.D.glucose(t)    -0.7506      0.064    -11.775      0.000      -0.876      -0.626\n",
       "ma.L2.D.glucose(t)    -0.9779      0.045    -21.698      0.000      -1.066      -0.890\n",
       "ma.L3.D.glucose(t)     0.7286      0.081      8.961      0.000       0.569       0.888\n",
       "                                    Roots                                    \n",
       "=============================================================================\n",
       "                  Real          Imaginary           Modulus         Frequency\n",
       "-----------------------------------------------------------------------------\n",
       "AR.1           -1.0189           -0.0000j            1.0189           -0.5000\n",
       "AR.2            1.0331           -0.0000j            1.0331           -0.0000\n",
       "AR.3            1.2520           -0.4391j            1.3268           -0.0537\n",
       "AR.4            1.2520           +0.4391j            1.3268            0.0537\n",
       "MA.1           -1.0128           +0.0000j            1.0128            0.5000\n",
       "MA.2            1.0001           +0.0000j            1.0001            0.0000\n",
       "MA.3            1.3548           +0.0000j            1.3548            0.0000\n",
       "-----------------------------------------------------------------------------\n",
       "\"\"\""
      ]
     },
     "execution_count": 53,
     "metadata": {},
     "output_type": "execute_result"
    }
   ],
   "source": [
    "model.summary()"
   ]
  },
  {
   "cell_type": "markdown",
   "id": "30ddc260",
   "metadata": {},
   "source": [
    "예측 수행하기"
   ]
  },
  {
   "cell_type": "code",
   "execution_count": 55,
   "id": "415c19cf",
   "metadata": {},
   "outputs": [
    {
     "data": {
      "text/plain": [
       "array([102.22654704, 103.45998141, 104.57809252, 105.5210423 ,\n",
       "       106.28384154])"
      ]
     },
     "execution_count": 55,
     "metadata": {},
     "output_type": "execute_result"
    }
   ],
   "source": [
    "model.forecast(steps = 5)[0]"
   ]
  },
  {
   "cell_type": "markdown",
   "id": "054e17a4",
   "metadata": {},
   "source": [
    "### 3. Multi-step forecasting"
   ]
  },
  {
   "cell_type": "code",
   "execution_count": 67,
   "id": "06de9846",
   "metadata": {},
   "outputs": [],
   "source": [
    "markers = ['X', 'D', 'v', '*', '+']\n",
    "marker_colors = ['#2ca02c', 'r', 'b', 'c', 'tab:purple', 'tab:orange']\n",
    "order = (4, 1, 3)"
   ]
  },
  {
   "cell_type": "code",
   "execution_count": 70,
   "id": "35bcb0bc",
   "metadata": {},
   "outputs": [
    {
     "data": {
      "image/png": "[encoded data removed]",
      "text/plain": [
       "<Figure size 360x360 with 1 Axes>"
      ]
     },
     "metadata": {
      "needs_background": "light"
     },
     "output_type": "display_data"
    }
   ],
   "source": [
    "fig, ax = plt.subplots(figsize = (5, 5))\n",
    "# df_sv[:2735].set_index('timestamp')['glucose(t)'].plot(ax = ax, color = colors[0],\n",
    "#                                                        linewidth=1, label = 'train')\n",
    "df_sv[train_index:].set_index('timestamp')['glucose(t)'].plot(ax = ax, color = colors[1], \n",
    "                                                       linewidth=1, marker = 'o',\n",
    "                                                       label = 'test')\n",
    "\n",
    "for i in range(5):\n",
    "    model = ARIMA(df_sv['glucose(t)'][:train_index+2*i], order=order)\n",
    "    model = model.fit()\n",
    "    \n",
    "    pred = model.forecast(steps=5)[0]#5개 step 예측\n",
    "    df_sv['pred'] = np.nan\n",
    "    df_sv.iloc[train_index+2*i:train_index+2*i+5]['pred']= pred\n",
    "    \n",
    "    df_sv[train_index:].set_index('timestamp')['pred'].plot(ax = ax, linewidth=0, \n",
    "                                                            marker='X', \n",
    "                                                       label='Predictions',\n",
    "                                                       markersize = 9,\n",
    "                                                       markeredgecolor = 'k',\n",
    "                                                       color=marker_colors[i])"
   ]
  }
 ],
 "metadata": {
  "kernelspec": {
   "display_name": "Python 3 (ipykernel)",
   "language": "python",
   "name": "python3"
  },
  "language_info": {
   "codemirror_mode": {
    "name": "ipython",
    "version": 3
   },
   "file_extension": ".py",
   "mimetype": "text/x-python",
   "name": "python",
   "nbconvert_exporter": "python",
   "pygments_lexer": "ipython3",
   "version": "3.9.12"
  }
 },
 "nbformat": 4,
 "nbformat_minor": 5
}
