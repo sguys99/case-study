{
 "cells": [
  {
   "cell_type": "markdown",
   "id": "9e790650",
   "metadata": {},
   "source": [
    "## ch2"
   ]
  },
  {
   "cell_type": "markdown",
   "id": "bfdfa59f",
   "metadata": {},
   "source": [
    "<div style=\"text-align: right\"> <b>Author : Kwang Myung Yu</b></div>\n",
    "<div style=\"text-align: right\"> Initial upload: 2022.08.09 </div> \n",
    "<div style=\"text-align: right\"> Last update: 2022.08.09</div> "
   ]
  },
  {
   "cell_type": "code",
   "execution_count": 44,
   "id": "27e5ee1f",
   "metadata": {},
   "outputs": [],
   "source": [
    "import numpy as np\n",
    "import pandas as pd\n",
    "import matplotlib as mpl\n",
    "import matplotlib.pyplot as plt\n",
    "import seaborn as sns\n",
    "import scipy as sp\n",
    "import datetime\n",
    "#import missingno as msno\n",
    "import gc\n",
    "import warnings; warnings.filterwarnings('ignore')\n",
    "plt.style.use('seaborn-whitegrid')\n",
    "%matplotlib inline\n",
    "\n",
    "# Options for pandas\n",
    "pd.set_option('display.max_columns', 100)\n",
    "pd.set_option('display.max_rows', 100)"
   ]
  },
  {
   "cell_type": "code",
   "execution_count": 45,
   "id": "4cd30ee4",
   "metadata": {},
   "outputs": [
    {
     "data": {
      "text/html": [
       "<svg  width=\"550\" height=\"55\"><rect x=\"0\" y=\"0\" width=\"55\" height=\"55\" style=\"fill:#00798c;stroke-width:2;stroke:rgb(255,255,255)\"/><rect x=\"55\" y=\"0\" width=\"55\" height=\"55\" style=\"fill:#d1495b;stroke-width:2;stroke:rgb(255,255,255)\"/><rect x=\"110\" y=\"0\" width=\"55\" height=\"55\" style=\"fill:#edae49;stroke-width:2;stroke:rgb(255,255,255)\"/><rect x=\"165\" y=\"0\" width=\"55\" height=\"55\" style=\"fill:#66a182;stroke-width:2;stroke:rgb(255,255,255)\"/><rect x=\"220\" y=\"0\" width=\"55\" height=\"55\" style=\"fill:#4a4a4a;stroke-width:2;stroke:rgb(255,255,255)\"/><rect x=\"275\" y=\"0\" width=\"55\" height=\"55\" style=\"fill:#1a508b;stroke-width:2;stroke:rgb(255,255,255)\"/><rect x=\"330\" y=\"0\" width=\"55\" height=\"55\" style=\"fill:#e3120b;stroke-width:2;stroke:rgb(255,255,255)\"/><rect x=\"385\" y=\"0\" width=\"55\" height=\"55\" style=\"fill:#c5a880;stroke-width:2;stroke:rgb(255,255,255)\"/><rect x=\"440\" y=\"0\" width=\"55\" height=\"55\" style=\"fill:#9f5f80;stroke-width:2;stroke:rgb(255,255,255)\"/><rect x=\"495\" y=\"0\" width=\"55\" height=\"55\" style=\"fill:#6f9eaf;stroke-width:2;stroke:rgb(255,255,255)\"/></svg>"
      ],
      "text/plain": [
       "[(0.0, 0.4745098039215686, 0.5490196078431373),\n",
       " (0.8196078431372549, 0.28627450980392155, 0.3568627450980392),\n",
       " (0.9294117647058824, 0.6823529411764706, 0.28627450980392155),\n",
       " (0.4, 0.6313725490196078, 0.5098039215686274),\n",
       " (0.2901960784313726, 0.2901960784313726, 0.2901960784313726),\n",
       " (0.10196078431372549, 0.3137254901960784, 0.5450980392156862),\n",
       " (0.8901960784313725, 0.07058823529411765, 0.043137254901960784),\n",
       " (0.7725490196078432, 0.6588235294117647, 0.5019607843137255),\n",
       " (0.6235294117647059, 0.37254901960784315, 0.5019607843137255),\n",
       " (0.43529411764705883, 0.6196078431372549, 0.6862745098039216)]"
      ]
     },
     "execution_count": 45,
     "metadata": {},
     "output_type": "execute_result"
    }
   ],
   "source": [
    "colors = [\"#00798c\", \"#d1495b\", '#edae49', '#66a182', '#4a4a4a',\n",
    "          '#1a508b', '#e3120b', '#c5a880', '#9F5F80', '#6F9EAF',\n",
    "          '#0278ae','#F39233', '#A7C5EB', '#54E346', '#ABCE74',\n",
    "        '#d6b0b1', '#58391c', '#cdd0cb', '#ffb396', '#6930c3']\n",
    "sns.color_palette(colors[:10])"
   ]
  },
  {
   "cell_type": "markdown",
   "id": "d9c589d6",
   "metadata": {},
   "source": [
    "### 1. 데이터 읽기"
   ]
  },
  {
   "cell_type": "code",
   "execution_count": 46,
   "id": "3b8d3f54",
   "metadata": {},
   "outputs": [],
   "source": [
    "user = pd.read_csv('lifelog/GB_SVC_USER_processed.csv', encoding='CP949')\n",
    "step = pd.read_csv('lifelog/GB_SLEEP_HIST_processed.csv')\n",
    "weather = pd.read_csv('lifelog/weather.csv')"
   ]
  },
  {
   "cell_type": "code",
   "execution_count": 47,
   "id": "470f1655",
   "metadata": {},
   "outputs": [
    {
     "name": "stdout",
     "output_type": "stream",
     "text": [
      "Memory usage of dataframe is 815.56 MB\n",
      "Memory usage after optimization is: 359.34 MB\n",
      "Decreased by 55.9%\n"
     ]
    }
   ],
   "source": [
    "step = reduce_mem_usage(step)"
   ]
  },
  {
   "cell_type": "code",
   "execution_count": 48,
   "id": "f8dc90d6",
   "metadata": {},
   "outputs": [
    {
     "data": {
      "text/plain": [
       "845"
      ]
     },
     "execution_count": 48,
     "metadata": {},
     "output_type": "execute_result"
    }
   ],
   "source": [
    "gc.collect()"
   ]
  },
  {
   "cell_type": "code",
   "execution_count": 49,
   "id": "0095d38b",
   "metadata": {},
   "outputs": [],
   "source": [
    "step['MSRE_BEGIN_DTM'] = step['MSRE_BEGIN_DTM'].astype('object')\n",
    "step['MSRE_BEGIN_DTM'] = pd.to_datetime(step['MSRE_BEGIN_DTM'])"
   ]
  },
  {
   "cell_type": "code",
   "execution_count": 50,
   "id": "662a43e0",
   "metadata": {},
   "outputs": [
    {
     "data": {
      "text/html": [
       "<div>\n",
       "<style scoped>\n",
       "    .dataframe tbody tr th:only-of-type {\n",
       "        vertical-align: middle;\n",
       "    }\n",
       "\n",
       "    .dataframe tbody tr th {\n",
       "        vertical-align: top;\n",
       "    }\n",
       "\n",
       "    .dataframe thead th {\n",
       "        text-align: right;\n",
       "    }\n",
       "</style>\n",
       "<table border=\"1\" class=\"dataframe\">\n",
       "  <thead>\n",
       "    <tr style=\"text-align: right;\">\n",
       "      <th></th>\n",
       "      <th>USER_ID</th>\n",
       "      <th>NICK_NM</th>\n",
       "      <th>USER_EMAIL</th>\n",
       "      <th>USER_NM</th>\n",
       "      <th>USER_MOBILE</th>\n",
       "      <th>BIRTHDAY</th>\n",
       "      <th>GENDER</th>\n",
       "      <th>TALL</th>\n",
       "      <th>WEIGHT</th>\n",
       "      <th>OS</th>\n",
       "      <th>APP_VER_NO</th>\n",
       "      <th>STATUS</th>\n",
       "      <th>AGE</th>\n",
       "      <th>GROUP</th>\n",
       "    </tr>\n",
       "  </thead>\n",
       "  <tbody>\n",
       "    <tr>\n",
       "      <th>0</th>\n",
       "      <td>3</td>\n",
       "      <td>hhh</td>\n",
       "      <td>sangmin.han@gi-vita.io</td>\n",
       "      <td>NaN</td>\n",
       "      <td>010-5254-8226</td>\n",
       "      <td>2003-07-07</td>\n",
       "      <td>M</td>\n",
       "      <td>175.0</td>\n",
       "      <td>65.0</td>\n",
       "      <td>A</td>\n",
       "      <td>1.6.1</td>\n",
       "      <td>정상</td>\n",
       "      <td>19</td>\n",
       "      <td>youth</td>\n",
       "    </tr>\n",
       "    <tr>\n",
       "      <th>1</th>\n",
       "      <td>4</td>\n",
       "      <td>유히</td>\n",
       "      <td>yuhee.park@gi-vita.io</td>\n",
       "      <td>NaN</td>\n",
       "      <td>010-4187-7998</td>\n",
       "      <td>2005-11-30</td>\n",
       "      <td>F</td>\n",
       "      <td>168.0</td>\n",
       "      <td>57.0</td>\n",
       "      <td>A</td>\n",
       "      <td>1.5.7</td>\n",
       "      <td>정상</td>\n",
       "      <td>17</td>\n",
       "      <td>youth</td>\n",
       "    </tr>\n",
       "    <tr>\n",
       "      <th>2</th>\n",
       "      <td>7</td>\n",
       "      <td>채효</td>\n",
       "      <td>ks960427@gmail.com</td>\n",
       "      <td>NaN</td>\n",
       "      <td>010-8971-6536</td>\n",
       "      <td>1969-09-17</td>\n",
       "      <td>M</td>\n",
       "      <td>183.7</td>\n",
       "      <td>85.4</td>\n",
       "      <td>A</td>\n",
       "      <td>1.6.32</td>\n",
       "      <td>정상</td>\n",
       "      <td>53</td>\n",
       "      <td>adult</td>\n",
       "    </tr>\n",
       "    <tr>\n",
       "      <th>3</th>\n",
       "      <td>10</td>\n",
       "      <td>hamin</td>\n",
       "      <td>khm0651@naver.com</td>\n",
       "      <td>NaN</td>\n",
       "      <td>010-4938-0651</td>\n",
       "      <td>2003-01-01</td>\n",
       "      <td>M</td>\n",
       "      <td>178.8</td>\n",
       "      <td>72.2</td>\n",
       "      <td>A</td>\n",
       "      <td>1.6.32</td>\n",
       "      <td>정상</td>\n",
       "      <td>19</td>\n",
       "      <td>youth</td>\n",
       "    </tr>\n",
       "    <tr>\n",
       "      <th>4</th>\n",
       "      <td>11</td>\n",
       "      <td>korea5214</td>\n",
       "      <td>korea5214@gmail.com</td>\n",
       "      <td>NaN</td>\n",
       "      <td>010-4065-4685</td>\n",
       "      <td>2003-04-19</td>\n",
       "      <td>M</td>\n",
       "      <td>177.0</td>\n",
       "      <td>79.5</td>\n",
       "      <td>A</td>\n",
       "      <td>1.0.2</td>\n",
       "      <td>정상</td>\n",
       "      <td>19</td>\n",
       "      <td>youth</td>\n",
       "    </tr>\n",
       "  </tbody>\n",
       "</table>\n",
       "</div>"
      ],
      "text/plain": [
       "   USER_ID    NICK_NM              USER_EMAIL USER_NM    USER_MOBILE  \\\n",
       "0        3        hhh  sangmin.han@gi-vita.io     NaN  010-5254-8226   \n",
       "1        4         유히   yuhee.park@gi-vita.io     NaN  010-4187-7998   \n",
       "2        7         채효      ks960427@gmail.com     NaN  010-8971-6536   \n",
       "3       10      hamin       khm0651@naver.com     NaN  010-4938-0651   \n",
       "4       11  korea5214     korea5214@gmail.com     NaN  010-4065-4685   \n",
       "\n",
       "     BIRTHDAY GENDER   TALL  WEIGHT OS APP_VER_NO STATUS  AGE  GROUP  \n",
       "0  2003-07-07      M  175.0    65.0  A      1.6.1     정상   19  youth  \n",
       "1  2005-11-30      F  168.0    57.0  A      1.5.7     정상   17  youth  \n",
       "2  1969-09-17      M  183.7    85.4  A     1.6.32     정상   53  adult  \n",
       "3  2003-01-01      M  178.8    72.2  A     1.6.32     정상   19  youth  \n",
       "4  2003-04-19      M  177.0    79.5  A      1.0.2     정상   19  youth  "
      ]
     },
     "execution_count": 50,
     "metadata": {},
     "output_type": "execute_result"
    }
   ],
   "source": [
    "user.head()"
   ]
  },
  {
   "cell_type": "code",
   "execution_count": 51,
   "id": "a3b466ff",
   "metadata": {},
   "outputs": [
    {
     "data": {
      "text/html": [
       "<div>\n",
       "<style scoped>\n",
       "    .dataframe tbody tr th:only-of-type {\n",
       "        vertical-align: middle;\n",
       "    }\n",
       "\n",
       "    .dataframe tbody tr th {\n",
       "        vertical-align: top;\n",
       "    }\n",
       "\n",
       "    .dataframe thead th {\n",
       "        text-align: right;\n",
       "    }\n",
       "</style>\n",
       "<table border=\"1\" class=\"dataframe\">\n",
       "  <thead>\n",
       "    <tr style=\"text-align: right;\">\n",
       "      <th></th>\n",
       "      <th>MSRE_BEGIN_DTM</th>\n",
       "      <th>USER_ID</th>\n",
       "      <th>DVIC_TP</th>\n",
       "      <th>STEP_CNT</th>\n",
       "      <th>MOVE_DIST</th>\n",
       "      <th>CNPT_CALR</th>\n",
       "      <th>MOVE_SPEED</th>\n",
       "    </tr>\n",
       "  </thead>\n",
       "  <tbody>\n",
       "    <tr>\n",
       "      <th>0</th>\n",
       "      <td>2022-02-01</td>\n",
       "      <td>262</td>\n",
       "      <td>360003</td>\n",
       "      <td>11</td>\n",
       "      <td>8.06000</td>\n",
       "      <td>0.530000</td>\n",
       "      <td>1.111111</td>\n",
       "    </tr>\n",
       "    <tr>\n",
       "      <th>1</th>\n",
       "      <td>2022-02-01</td>\n",
       "      <td>294</td>\n",
       "      <td>360003</td>\n",
       "      <td>25</td>\n",
       "      <td>17.83375</td>\n",
       "      <td>0.909395</td>\n",
       "      <td>1.176433</td>\n",
       "    </tr>\n",
       "    <tr>\n",
       "      <th>2</th>\n",
       "      <td>2022-02-01</td>\n",
       "      <td>325</td>\n",
       "      <td>360003</td>\n",
       "      <td>10</td>\n",
       "      <td>6.30000</td>\n",
       "      <td>0.330000</td>\n",
       "      <td>0.805556</td>\n",
       "    </tr>\n",
       "    <tr>\n",
       "      <th>3</th>\n",
       "      <td>2022-02-01</td>\n",
       "      <td>342</td>\n",
       "      <td>360003</td>\n",
       "      <td>33</td>\n",
       "      <td>23.43000</td>\n",
       "      <td>1.700000</td>\n",
       "      <td>1.083333</td>\n",
       "    </tr>\n",
       "    <tr>\n",
       "      <th>4</th>\n",
       "      <td>2022-02-01</td>\n",
       "      <td>372</td>\n",
       "      <td>360003</td>\n",
       "      <td>14</td>\n",
       "      <td>10.16000</td>\n",
       "      <td>0.500000</td>\n",
       "      <td>1.444444</td>\n",
       "    </tr>\n",
       "  </tbody>\n",
       "</table>\n",
       "</div>"
      ],
      "text/plain": [
       "  MSRE_BEGIN_DTM  USER_ID  DVIC_TP  STEP_CNT  MOVE_DIST  CNPT_CALR  MOVE_SPEED\n",
       "0     2022-02-01      262   360003        11    8.06000   0.530000    1.111111\n",
       "1     2022-02-01      294   360003        25   17.83375   0.909395    1.176433\n",
       "2     2022-02-01      325   360003        10    6.30000   0.330000    0.805556\n",
       "3     2022-02-01      342   360003        33   23.43000   1.700000    1.083333\n",
       "4     2022-02-01      372   360003        14   10.16000   0.500000    1.444444"
      ]
     },
     "execution_count": 51,
     "metadata": {},
     "output_type": "execute_result"
    }
   ],
   "source": [
    "step.head()"
   ]
  },
  {
   "cell_type": "code",
   "execution_count": 52,
   "id": "dcdb5ceb",
   "metadata": {},
   "outputs": [
    {
     "data": {
      "text/html": [
       "<div>\n",
       "<style scoped>\n",
       "    .dataframe tbody tr th:only-of-type {\n",
       "        vertical-align: middle;\n",
       "    }\n",
       "\n",
       "    .dataframe tbody tr th {\n",
       "        vertical-align: top;\n",
       "    }\n",
       "\n",
       "    .dataframe thead th {\n",
       "        text-align: right;\n",
       "    }\n",
       "</style>\n",
       "<table border=\"1\" class=\"dataframe\">\n",
       "  <thead>\n",
       "    <tr style=\"text-align: right;\">\n",
       "      <th></th>\n",
       "      <th>location_no</th>\n",
       "      <th>datetime</th>\n",
       "      <th>temp</th>\n",
       "      <th>temp_qc</th>\n",
       "      <th>rain</th>\n",
       "      <th>rain_qc</th>\n",
       "      <th>wind</th>\n",
       "      <th>wind_qc</th>\n",
       "      <th>wind_d</th>\n",
       "      <th>wind_d_qc</th>\n",
       "      <th>humidity</th>\n",
       "      <th>humidity_qc</th>\n",
       "      <th>snow</th>\n",
       "      <th>cloud</th>\n",
       "    </tr>\n",
       "  </thead>\n",
       "  <tbody>\n",
       "    <tr>\n",
       "      <th>0</th>\n",
       "      <td>108</td>\n",
       "      <td>2022-02-01 0:00</td>\n",
       "      <td>0.4</td>\n",
       "      <td>NaN</td>\n",
       "      <td>1.2</td>\n",
       "      <td>NaN</td>\n",
       "      <td>1.8</td>\n",
       "      <td>NaN</td>\n",
       "      <td>270</td>\n",
       "      <td>NaN</td>\n",
       "      <td>92</td>\n",
       "      <td>NaN</td>\n",
       "      <td>1.8</td>\n",
       "      <td>9</td>\n",
       "    </tr>\n",
       "    <tr>\n",
       "      <th>1</th>\n",
       "      <td>108</td>\n",
       "      <td>2022-02-01 1:00</td>\n",
       "      <td>-0.2</td>\n",
       "      <td>NaN</td>\n",
       "      <td>NaN</td>\n",
       "      <td>NaN</td>\n",
       "      <td>2.9</td>\n",
       "      <td>NaN</td>\n",
       "      <td>250</td>\n",
       "      <td>NaN</td>\n",
       "      <td>85</td>\n",
       "      <td>NaN</td>\n",
       "      <td>1.8</td>\n",
       "      <td>2</td>\n",
       "    </tr>\n",
       "    <tr>\n",
       "      <th>2</th>\n",
       "      <td>108</td>\n",
       "      <td>2022-02-01 2:00</td>\n",
       "      <td>-0.9</td>\n",
       "      <td>NaN</td>\n",
       "      <td>NaN</td>\n",
       "      <td>NaN</td>\n",
       "      <td>2.8</td>\n",
       "      <td>NaN</td>\n",
       "      <td>250</td>\n",
       "      <td>NaN</td>\n",
       "      <td>74</td>\n",
       "      <td>NaN</td>\n",
       "      <td>1.7</td>\n",
       "      <td>7</td>\n",
       "    </tr>\n",
       "    <tr>\n",
       "      <th>3</th>\n",
       "      <td>108</td>\n",
       "      <td>2022-02-01 3:00</td>\n",
       "      <td>-0.9</td>\n",
       "      <td>NaN</td>\n",
       "      <td>0.0</td>\n",
       "      <td>NaN</td>\n",
       "      <td>3.6</td>\n",
       "      <td>NaN</td>\n",
       "      <td>250</td>\n",
       "      <td>NaN</td>\n",
       "      <td>72</td>\n",
       "      <td>NaN</td>\n",
       "      <td>1.7</td>\n",
       "      <td>9</td>\n",
       "    </tr>\n",
       "    <tr>\n",
       "      <th>4</th>\n",
       "      <td>108</td>\n",
       "      <td>2022-02-01 4:00</td>\n",
       "      <td>-1.7</td>\n",
       "      <td>NaN</td>\n",
       "      <td>NaN</td>\n",
       "      <td>9.0</td>\n",
       "      <td>3.1</td>\n",
       "      <td>NaN</td>\n",
       "      <td>270</td>\n",
       "      <td>NaN</td>\n",
       "      <td>87</td>\n",
       "      <td>NaN</td>\n",
       "      <td>2.0</td>\n",
       "      <td>10</td>\n",
       "    </tr>\n",
       "  </tbody>\n",
       "</table>\n",
       "</div>"
      ],
      "text/plain": [
       "   location_no         datetime  temp  temp_qc  rain  rain_qc  wind  wind_qc  \\\n",
       "0          108  2022-02-01 0:00   0.4      NaN   1.2      NaN   1.8      NaN   \n",
       "1          108  2022-02-01 1:00  -0.2      NaN   NaN      NaN   2.9      NaN   \n",
       "2          108  2022-02-01 2:00  -0.9      NaN   NaN      NaN   2.8      NaN   \n",
       "3          108  2022-02-01 3:00  -0.9      NaN   0.0      NaN   3.6      NaN   \n",
       "4          108  2022-02-01 4:00  -1.7      NaN   NaN      9.0   3.1      NaN   \n",
       "\n",
       "   wind_d  wind_d_qc  humidity  humidity_qc  snow  cloud  \n",
       "0     270        NaN        92          NaN   1.8      9  \n",
       "1     250        NaN        85          NaN   1.8      2  \n",
       "2     250        NaN        74          NaN   1.7      7  \n",
       "3     250        NaN        72          NaN   1.7      9  \n",
       "4     270        NaN        87          NaN   2.0     10  "
      ]
     },
     "execution_count": 52,
     "metadata": {},
     "output_type": "execute_result"
    }
   ],
   "source": [
    "weather.head()"
   ]
  },
  {
   "cell_type": "code",
   "execution_count": 53,
   "id": "a0c4a0eb",
   "metadata": {},
   "outputs": [],
   "source": [
    "weather['datetime'] = pd.to_datetime(weather['datetime'])"
   ]
  },
  {
   "cell_type": "markdown",
   "id": "686cf374",
   "metadata": {},
   "source": [
    "날씨 데이터 살펴보기"
   ]
  },
  {
   "cell_type": "code",
   "execution_count": 54,
   "id": "a89e00eb",
   "metadata": {},
   "outputs": [
    {
     "data": {
      "text/plain": [
       "<AxesSubplot:xlabel='datetime'>"
      ]
     },
     "execution_count": 54,
     "metadata": {},
     "output_type": "execute_result"
    },
    {
     "data": {
      "image/png": "[encoded data removed]",
      "text/plain": [
       "<Figure size 864x360 with 1 Axes>"
      ]
     },
     "metadata": {
      "needs_background": "light"
     },
     "output_type": "display_data"
    }
   ],
   "source": [
    "weather.set_index('datetime')['temp'].plot(figsize = (12, 5), linewidth = 0.5, color=colors)"
   ]
  },
  {
   "cell_type": "code",
   "execution_count": 55,
   "id": "63197bd8",
   "metadata": {},
   "outputs": [
    {
     "data": {
      "text/plain": [
       "<AxesSubplot:xlabel='datetime'>"
      ]
     },
     "execution_count": 55,
     "metadata": {},
     "output_type": "execute_result"
    },
    {
     "data": {
      "image/png": "[encoded data removed]",
      "text/plain": [
       "<Figure size 864x360 with 1 Axes>"
      ]
     },
     "metadata": {
      "needs_background": "light"
     },
     "output_type": "display_data"
    }
   ],
   "source": [
    "weather.set_index('datetime')['rain'].plot(figsize = (12, 5), linewidth = 0.5, color=colors[1], style = 'o', alpha = 0.6)"
   ]
  },
  {
   "cell_type": "code",
   "execution_count": 56,
   "id": "b5c92b00",
   "metadata": {},
   "outputs": [
    {
     "data": {
      "text/plain": [
       "<AxesSubplot:xlabel='datetime'>"
      ]
     },
     "execution_count": 56,
     "metadata": {},
     "output_type": "execute_result"
    },
    {
     "data": {
      "image/png": "[encoded data removed]",
      "text/plain": [
       "<Figure size 864x360 with 1 Axes>"
      ]
     },
     "metadata": {
      "needs_background": "light"
     },
     "output_type": "display_data"
    }
   ],
   "source": [
    "weather.set_index('datetime')['snow'].plot(figsize = (12, 5), linewidth = 0.5, color=colors[2], style = 'o', alpha = 0.6)"
   ]
  },
  {
   "cell_type": "code",
   "execution_count": 57,
   "id": "1fda17de",
   "metadata": {},
   "outputs": [
    {
     "data": {
      "text/plain": [
       "<AxesSubplot:xlabel='datetime'>"
      ]
     },
     "execution_count": 57,
     "metadata": {},
     "output_type": "execute_result"
    },
    {
     "data": {
      "image/png": "[encoded data removed]",
      "text/plain": [
       "<Figure size 864x360 with 1 Axes>"
      ]
     },
     "metadata": {
      "needs_background": "light"
     },
     "output_type": "display_data"
    }
   ],
   "source": [
    "weather.set_index('datetime')['humidity'].plot(figsize = (12, 5), linewidth = 0.5, color=colors[3], alpha = 0.6)"
   ]
  },
  {
   "cell_type": "markdown",
   "id": "0c08e610",
   "metadata": {},
   "source": [
    "날씨데이터 전처리"
   ]
  },
  {
   "cell_type": "code",
   "execution_count": 90,
   "id": "6d03bbd2",
   "metadata": {},
   "outputs": [],
   "source": [
    "weather = weather[['datetime', 'temp', 'rain', 'wind', 'wind_d', 'humidity', 'snow', 'cloud']]"
   ]
  },
  {
   "cell_type": "code",
   "execution_count": 91,
   "id": "52a3763b",
   "metadata": {},
   "outputs": [
    {
     "data": {
      "text/plain": [
       "3495"
      ]
     },
     "execution_count": 91,
     "metadata": {},
     "output_type": "execute_result"
    }
   ],
   "source": [
    "weather['rain'].isnull().sum()"
   ]
  },
  {
   "cell_type": "code",
   "execution_count": 92,
   "id": "895e9a36",
   "metadata": {},
   "outputs": [],
   "source": [
    "weather = weather.fillna(0)"
   ]
  },
  {
   "cell_type": "code",
   "execution_count": null,
   "id": "ecc3736d",
   "metadata": {},
   "outputs": [],
   "source": []
  },
  {
   "cell_type": "markdown",
   "id": "146cf433",
   "metadata": {},
   "source": [
    "개인정보와 걸음 데이터 병합"
   ]
  },
  {
   "cell_type": "code",
   "execution_count": 59,
   "id": "caf8337c",
   "metadata": {},
   "outputs": [],
   "source": [
    "step = step.merge(user, on='USER_ID', how='left')"
   ]
  },
  {
   "cell_type": "code",
   "execution_count": 60,
   "id": "e325bff7",
   "metadata": {},
   "outputs": [
    {
     "data": {
      "text/html": [
       "<div>\n",
       "<style scoped>\n",
       "    .dataframe tbody tr th:only-of-type {\n",
       "        vertical-align: middle;\n",
       "    }\n",
       "\n",
       "    .dataframe tbody tr th {\n",
       "        vertical-align: top;\n",
       "    }\n",
       "\n",
       "    .dataframe thead th {\n",
       "        text-align: right;\n",
       "    }\n",
       "</style>\n",
       "<table border=\"1\" class=\"dataframe\">\n",
       "  <thead>\n",
       "    <tr style=\"text-align: right;\">\n",
       "      <th></th>\n",
       "      <th>MSRE_BEGIN_DTM</th>\n",
       "      <th>USER_ID</th>\n",
       "      <th>DVIC_TP</th>\n",
       "      <th>STEP_CNT</th>\n",
       "      <th>MOVE_DIST</th>\n",
       "      <th>CNPT_CALR</th>\n",
       "      <th>MOVE_SPEED</th>\n",
       "      <th>NICK_NM</th>\n",
       "      <th>USER_EMAIL</th>\n",
       "      <th>USER_NM</th>\n",
       "      <th>USER_MOBILE</th>\n",
       "      <th>BIRTHDAY</th>\n",
       "      <th>GENDER</th>\n",
       "      <th>TALL</th>\n",
       "      <th>WEIGHT</th>\n",
       "      <th>OS</th>\n",
       "      <th>APP_VER_NO</th>\n",
       "      <th>STATUS</th>\n",
       "      <th>AGE</th>\n",
       "      <th>GROUP</th>\n",
       "    </tr>\n",
       "  </thead>\n",
       "  <tbody>\n",
       "    <tr>\n",
       "      <th>0</th>\n",
       "      <td>2022-02-01</td>\n",
       "      <td>262</td>\n",
       "      <td>360003</td>\n",
       "      <td>11</td>\n",
       "      <td>8.06000</td>\n",
       "      <td>0.530000</td>\n",
       "      <td>1.111111</td>\n",
       "      <td>이본영</td>\n",
       "      <td>bon3926@hanmail.net</td>\n",
       "      <td>NaN</td>\n",
       "      <td>01033535580</td>\n",
       "      <td>1979-04-19</td>\n",
       "      <td>M</td>\n",
       "      <td>184.0</td>\n",
       "      <td>81.0</td>\n",
       "      <td>A</td>\n",
       "      <td>1.6.2</td>\n",
       "      <td>정상</td>\n",
       "      <td>43.0</td>\n",
       "      <td>adult</td>\n",
       "    </tr>\n",
       "    <tr>\n",
       "      <th>1</th>\n",
       "      <td>2022-02-01</td>\n",
       "      <td>294</td>\n",
       "      <td>360003</td>\n",
       "      <td>25</td>\n",
       "      <td>17.83375</td>\n",
       "      <td>0.909395</td>\n",
       "      <td>1.176433</td>\n",
       "      <td>건강한</td>\n",
       "      <td>wwkdtod@naver.com</td>\n",
       "      <td>NaN</td>\n",
       "      <td>010-3432-5599</td>\n",
       "      <td>1981-04-02</td>\n",
       "      <td>M</td>\n",
       "      <td>178.0</td>\n",
       "      <td>80.0</td>\n",
       "      <td>A</td>\n",
       "      <td>1.6.19</td>\n",
       "      <td>정상</td>\n",
       "      <td>41.0</td>\n",
       "      <td>adult</td>\n",
       "    </tr>\n",
       "    <tr>\n",
       "      <th>2</th>\n",
       "      <td>2022-02-01</td>\n",
       "      <td>325</td>\n",
       "      <td>360003</td>\n",
       "      <td>10</td>\n",
       "      <td>6.30000</td>\n",
       "      <td>0.330000</td>\n",
       "      <td>0.805556</td>\n",
       "      <td>매니니</td>\n",
       "      <td>mani24680@naver.com</td>\n",
       "      <td>NaN</td>\n",
       "      <td>010-3927-5462</td>\n",
       "      <td>1994-01-22</td>\n",
       "      <td>F</td>\n",
       "      <td>161.0</td>\n",
       "      <td>58.0</td>\n",
       "      <td>A</td>\n",
       "      <td>1.6.19</td>\n",
       "      <td>정상</td>\n",
       "      <td>28.0</td>\n",
       "      <td>adult</td>\n",
       "    </tr>\n",
       "    <tr>\n",
       "      <th>3</th>\n",
       "      <td>2022-02-01</td>\n",
       "      <td>342</td>\n",
       "      <td>360003</td>\n",
       "      <td>33</td>\n",
       "      <td>23.43000</td>\n",
       "      <td>1.700000</td>\n",
       "      <td>1.083333</td>\n",
       "      <td>Jay</td>\n",
       "      <td>ghjw75@gmail.com</td>\n",
       "      <td>NaN</td>\n",
       "      <td>010-6726-5046</td>\n",
       "      <td>1975-06-22</td>\n",
       "      <td>M</td>\n",
       "      <td>177.0</td>\n",
       "      <td>80.0</td>\n",
       "      <td>A</td>\n",
       "      <td>1.6.19</td>\n",
       "      <td>정상</td>\n",
       "      <td>47.0</td>\n",
       "      <td>adult</td>\n",
       "    </tr>\n",
       "    <tr>\n",
       "      <th>4</th>\n",
       "      <td>2022-02-01</td>\n",
       "      <td>372</td>\n",
       "      <td>360003</td>\n",
       "      <td>14</td>\n",
       "      <td>10.16000</td>\n",
       "      <td>0.500000</td>\n",
       "      <td>1.444444</td>\n",
       "      <td>오묘한자매맘</td>\n",
       "      <td>deneb8597@gmail.com</td>\n",
       "      <td>Hanna</td>\n",
       "      <td>010-4182-3990</td>\n",
       "      <td>1985-12-11</td>\n",
       "      <td>F</td>\n",
       "      <td>163.0</td>\n",
       "      <td>79.4</td>\n",
       "      <td>Android</td>\n",
       "      <td>1.6.2</td>\n",
       "      <td>정상</td>\n",
       "      <td>37.0</td>\n",
       "      <td>adult</td>\n",
       "    </tr>\n",
       "  </tbody>\n",
       "</table>\n",
       "</div>"
      ],
      "text/plain": [
       "  MSRE_BEGIN_DTM  USER_ID  DVIC_TP  STEP_CNT  MOVE_DIST  CNPT_CALR  \\\n",
       "0     2022-02-01      262   360003        11    8.06000   0.530000   \n",
       "1     2022-02-01      294   360003        25   17.83375   0.909395   \n",
       "2     2022-02-01      325   360003        10    6.30000   0.330000   \n",
       "3     2022-02-01      342   360003        33   23.43000   1.700000   \n",
       "4     2022-02-01      372   360003        14   10.16000   0.500000   \n",
       "\n",
       "   MOVE_SPEED NICK_NM           USER_EMAIL USER_NM    USER_MOBILE    BIRTHDAY  \\\n",
       "0    1.111111     이본영  bon3926@hanmail.net     NaN    01033535580  1979-04-19   \n",
       "1    1.176433     건강한    wwkdtod@naver.com     NaN  010-3432-5599  1981-04-02   \n",
       "2    0.805556     매니니  mani24680@naver.com     NaN  010-3927-5462  1994-01-22   \n",
       "3    1.083333     Jay     ghjw75@gmail.com     NaN  010-6726-5046  1975-06-22   \n",
       "4    1.444444  오묘한자매맘  deneb8597@gmail.com   Hanna  010-4182-3990  1985-12-11   \n",
       "\n",
       "  GENDER   TALL  WEIGHT       OS APP_VER_NO STATUS   AGE  GROUP  \n",
       "0      M  184.0    81.0        A      1.6.2     정상  43.0  adult  \n",
       "1      M  178.0    80.0        A     1.6.19     정상  41.0  adult  \n",
       "2      F  161.0    58.0        A     1.6.19     정상  28.0  adult  \n",
       "3      M  177.0    80.0        A     1.6.19     정상  47.0  adult  \n",
       "4      F  163.0    79.4  Android      1.6.2     정상  37.0  adult  "
      ]
     },
     "execution_count": 60,
     "metadata": {},
     "output_type": "execute_result"
    }
   ],
   "source": [
    "step.head()"
   ]
  },
  {
   "cell_type": "code",
   "execution_count": 61,
   "id": "7bdd3de2",
   "metadata": {},
   "outputs": [
    {
     "data": {
      "text/plain": [
       "Index(['MSRE_BEGIN_DTM', 'USER_ID', 'DVIC_TP', 'STEP_CNT', 'MOVE_DIST',\n",
       "       'CNPT_CALR', 'MOVE_SPEED', 'NICK_NM', 'USER_EMAIL', 'USER_NM',\n",
       "       'USER_MOBILE', 'BIRTHDAY', 'GENDER', 'TALL', 'WEIGHT', 'OS',\n",
       "       'APP_VER_NO', 'STATUS', 'AGE', 'GROUP'],\n",
       "      dtype='object')"
      ]
     },
     "execution_count": 61,
     "metadata": {},
     "output_type": "execute_result"
    }
   ],
   "source": [
    "step.columns"
   ]
  },
  {
   "cell_type": "code",
   "execution_count": 62,
   "id": "0f751e28",
   "metadata": {},
   "outputs": [],
   "source": [
    "step = step[['MSRE_BEGIN_DTM', 'USER_ID', 'DVIC_TP', 'STEP_CNT', 'MOVE_DIST', 'CNPT_CALR', 'MOVE_SPEED','GENDER', 'AGE', 'GROUP']]"
   ]
  },
  {
   "cell_type": "code",
   "execution_count": 63,
   "id": "bdc8d419",
   "metadata": {},
   "outputs": [
    {
     "data": {
      "text/html": [
       "<div>\n",
       "<style scoped>\n",
       "    .dataframe tbody tr th:only-of-type {\n",
       "        vertical-align: middle;\n",
       "    }\n",
       "\n",
       "    .dataframe tbody tr th {\n",
       "        vertical-align: top;\n",
       "    }\n",
       "\n",
       "    .dataframe thead th {\n",
       "        text-align: right;\n",
       "    }\n",
       "</style>\n",
       "<table border=\"1\" class=\"dataframe\">\n",
       "  <thead>\n",
       "    <tr style=\"text-align: right;\">\n",
       "      <th></th>\n",
       "      <th>MSRE_BEGIN_DTM</th>\n",
       "      <th>USER_ID</th>\n",
       "      <th>DVIC_TP</th>\n",
       "      <th>STEP_CNT</th>\n",
       "      <th>MOVE_DIST</th>\n",
       "      <th>CNPT_CALR</th>\n",
       "      <th>MOVE_SPEED</th>\n",
       "      <th>GENDER</th>\n",
       "      <th>AGE</th>\n",
       "      <th>GROUP</th>\n",
       "    </tr>\n",
       "  </thead>\n",
       "  <tbody>\n",
       "    <tr>\n",
       "      <th>0</th>\n",
       "      <td>2022-02-01</td>\n",
       "      <td>262</td>\n",
       "      <td>360003</td>\n",
       "      <td>11</td>\n",
       "      <td>8.06000</td>\n",
       "      <td>0.530000</td>\n",
       "      <td>1.111111</td>\n",
       "      <td>M</td>\n",
       "      <td>43.0</td>\n",
       "      <td>adult</td>\n",
       "    </tr>\n",
       "    <tr>\n",
       "      <th>1</th>\n",
       "      <td>2022-02-01</td>\n",
       "      <td>294</td>\n",
       "      <td>360003</td>\n",
       "      <td>25</td>\n",
       "      <td>17.83375</td>\n",
       "      <td>0.909395</td>\n",
       "      <td>1.176433</td>\n",
       "      <td>M</td>\n",
       "      <td>41.0</td>\n",
       "      <td>adult</td>\n",
       "    </tr>\n",
       "    <tr>\n",
       "      <th>2</th>\n",
       "      <td>2022-02-01</td>\n",
       "      <td>325</td>\n",
       "      <td>360003</td>\n",
       "      <td>10</td>\n",
       "      <td>6.30000</td>\n",
       "      <td>0.330000</td>\n",
       "      <td>0.805556</td>\n",
       "      <td>F</td>\n",
       "      <td>28.0</td>\n",
       "      <td>adult</td>\n",
       "    </tr>\n",
       "    <tr>\n",
       "      <th>3</th>\n",
       "      <td>2022-02-01</td>\n",
       "      <td>342</td>\n",
       "      <td>360003</td>\n",
       "      <td>33</td>\n",
       "      <td>23.43000</td>\n",
       "      <td>1.700000</td>\n",
       "      <td>1.083333</td>\n",
       "      <td>M</td>\n",
       "      <td>47.0</td>\n",
       "      <td>adult</td>\n",
       "    </tr>\n",
       "    <tr>\n",
       "      <th>4</th>\n",
       "      <td>2022-02-01</td>\n",
       "      <td>372</td>\n",
       "      <td>360003</td>\n",
       "      <td>14</td>\n",
       "      <td>10.16000</td>\n",
       "      <td>0.500000</td>\n",
       "      <td>1.444444</td>\n",
       "      <td>F</td>\n",
       "      <td>37.0</td>\n",
       "      <td>adult</td>\n",
       "    </tr>\n",
       "  </tbody>\n",
       "</table>\n",
       "</div>"
      ],
      "text/plain": [
       "  MSRE_BEGIN_DTM  USER_ID  DVIC_TP  STEP_CNT  MOVE_DIST  CNPT_CALR  \\\n",
       "0     2022-02-01      262   360003        11    8.06000   0.530000   \n",
       "1     2022-02-01      294   360003        25   17.83375   0.909395   \n",
       "2     2022-02-01      325   360003        10    6.30000   0.330000   \n",
       "3     2022-02-01      342   360003        33   23.43000   1.700000   \n",
       "4     2022-02-01      372   360003        14   10.16000   0.500000   \n",
       "\n",
       "   MOVE_SPEED GENDER   AGE  GROUP  \n",
       "0    1.111111      M  43.0  adult  \n",
       "1    1.176433      M  41.0  adult  \n",
       "2    0.805556      F  28.0  adult  \n",
       "3    1.083333      M  47.0  adult  \n",
       "4    1.444444      F  37.0  adult  "
      ]
     },
     "execution_count": 63,
     "metadata": {},
     "output_type": "execute_result"
    }
   ],
   "source": [
    "step.head()"
   ]
  },
  {
   "cell_type": "code",
   "execution_count": 64,
   "id": "7887be84",
   "metadata": {},
   "outputs": [],
   "source": [
    "step.to_csv('lifelog/step_total.csv', index= False)"
   ]
  },
  {
   "cell_type": "code",
   "execution_count": null,
   "id": "52e38f29",
   "metadata": {},
   "outputs": [],
   "source": []
  },
  {
   "cell_type": "code",
   "execution_count": 66,
   "id": "fe5b5705",
   "metadata": {},
   "outputs": [],
   "source": [
    "step[step['GROUP']=='youth'].to_csv('lifelog/step_youth.csv')"
   ]
  },
  {
   "cell_type": "code",
   "execution_count": 68,
   "id": "e82e64bd",
   "metadata": {},
   "outputs": [],
   "source": [
    "step[step['GROUP']=='adult'].to_csv('lifelog/step_adult.csv')"
   ]
  },
  {
   "cell_type": "code",
   "execution_count": 70,
   "id": "8a1231e4",
   "metadata": {},
   "outputs": [],
   "source": [
    "step[step['GROUP']=='eldery'].to_csv('lifelog/step_eldery.csv')"
   ]
  },
  {
   "cell_type": "code",
   "execution_count": null,
   "id": "6f901e32",
   "metadata": {},
   "outputs": [],
   "source": []
  },
  {
   "cell_type": "code",
   "execution_count": 71,
   "id": "73a51662",
   "metadata": {},
   "outputs": [],
   "source": [
    "step_total = pd.DataFrame()\n",
    "step_youth = pd.DataFrame()\n",
    "step_adult = pd.DataFrame()\n",
    "step_eldery = pd.DataFrame()"
   ]
  },
  {
   "cell_type": "code",
   "execution_count": 72,
   "id": "c0f38036",
   "metadata": {},
   "outputs": [],
   "source": [
    "step_total[['timestamp', 'STEP_CNT']] = step.set_index('MSRE_BEGIN_DTM').resample('H').sum()['STEP_CNT'].reset_index()\n",
    "step_youth[['timestamp', 'STEP_CNT']] = step[step['GROUP']=='youth'].set_index('MSRE_BEGIN_DTM').resample('H').sum()['STEP_CNT'].reset_index()\n",
    "step_adult[['timestamp', 'STEP_CNT']] = step[step['GROUP']=='adult'].set_index('MSRE_BEGIN_DTM').resample('H').sum()['STEP_CNT'].reset_index()\n",
    "step_eldery[['timestamp', 'STEP_CNT']] = step[step['GROUP']=='eldery'].set_index('MSRE_BEGIN_DTM').resample('H').sum()['STEP_CNT'].reset_index()"
   ]
  },
  {
   "cell_type": "code",
   "execution_count": 73,
   "id": "d54e1091",
   "metadata": {},
   "outputs": [],
   "source": [
    "step_total['users'] = step.set_index('MSRE_BEGIN_DTM').resample('H').count()['USER_ID'].values\n",
    "step_youth['users'] = step[step['GROUP']=='youth'].set_index('MSRE_BEGIN_DTM').resample('H').count()['USER_ID'].values\n",
    "step_adult['users'] = step[step['GROUP']=='adult'].set_index('MSRE_BEGIN_DTM').resample('H').count()['USER_ID'].values\n",
    "step_eldery['users'] = step[step['GROUP']=='eldery'].set_index('MSRE_BEGIN_DTM').resample('H').count()['USER_ID'].values"
   ]
  },
  {
   "cell_type": "code",
   "execution_count": null,
   "id": "66bb1e7b",
   "metadata": {},
   "outputs": [],
   "source": []
  },
  {
   "cell_type": "code",
   "execution_count": 74,
   "id": "bfdbedb5",
   "metadata": {},
   "outputs": [],
   "source": [
    "step_total['year'] = step_total['timestamp'].dt.year\n",
    "step_total['month'] = step_total['timestamp'].dt.month\n",
    "step_total['day'] = step_total['timestamp'].dt.day\n",
    "step_total['hour'] = step_total['timestamp'].dt.hour\n",
    "step_total['dayofweek'] = step_total['timestamp'].dt.dayofweek #월0, 화1 ...일6"
   ]
  },
  {
   "cell_type": "code",
   "execution_count": 75,
   "id": "28a52197",
   "metadata": {},
   "outputs": [],
   "source": [
    "step_youth['year'] = step_youth['timestamp'].dt.year\n",
    "step_youth['month'] = step_youth['timestamp'].dt.month\n",
    "step_youth['day'] = step_youth['timestamp'].dt.day\n",
    "step_youth['hour'] = step_youth['timestamp'].dt.hour\n",
    "step_youth['dayofweek'] = step_youth['timestamp'].dt.dayofweek #월0, 화1 ...일6"
   ]
  },
  {
   "cell_type": "code",
   "execution_count": 76,
   "id": "50720bdc",
   "metadata": {},
   "outputs": [],
   "source": [
    "step_adult['year'] = step_adult['timestamp'].dt.year\n",
    "step_adult['month'] = step_adult['timestamp'].dt.month\n",
    "step_adult['day'] = step_adult['timestamp'].dt.day\n",
    "step_adult['hour'] = step_adult['timestamp'].dt.hour\n",
    "step_adult['dayofweek'] = step_adult['timestamp'].dt.dayofweek #월0, 화1 ...일6"
   ]
  },
  {
   "cell_type": "code",
   "execution_count": 77,
   "id": "1ea9c0e4",
   "metadata": {},
   "outputs": [],
   "source": [
    "step_eldery['year'] = step_eldery['timestamp'].dt.year\n",
    "step_eldery['month'] = step_eldery['timestamp'].dt.month\n",
    "step_eldery['day'] = step_eldery['timestamp'].dt.day\n",
    "step_eldery['hour'] = step_eldery['timestamp'].dt.hour\n",
    "step_eldery['dayofweek'] = step_eldery['timestamp'].dt.dayofweek #월0, 화1 ...일6"
   ]
  },
  {
   "cell_type": "code",
   "execution_count": 82,
   "id": "42f9af85",
   "metadata": {},
   "outputs": [],
   "source": [
    "def season(month):\n",
    "    if month in [3, 4, 5]:\n",
    "        return 1\n",
    "    if month in [6, 7, 8]:\n",
    "        return 2\n",
    "    if month in [9, 10, 11]:\n",
    "        return 3\n",
    "    if month in [12, 1, 2]:\n",
    "        return 4"
   ]
  },
  {
   "cell_type": "code",
   "execution_count": 83,
   "id": "1d90f052",
   "metadata": {},
   "outputs": [],
   "source": [
    "holiday = [datetime.date(2022, 2, 1), datetime.date(2022, 2, 2), \n",
    "datetime.date(2022, 3, 1), datetime.date(2022, 3, 9),\n",
    "datetime.date(2022, 5, 5), \n",
    "datetime.date(2022, 6, 1), datetime.date(2022, 6, 9)]"
   ]
  },
  {
   "cell_type": "code",
   "execution_count": null,
   "id": "05d7ad0b",
   "metadata": {},
   "outputs": [],
   "source": []
  },
  {
   "cell_type": "code",
   "execution_count": 84,
   "id": "caefe5d0",
   "metadata": {},
   "outputs": [],
   "source": [
    "step_total['season'] = step_total['month'].apply(season)\n",
    "step_total['holiday'] = 0\n",
    "step_total.loc[step_total['timestamp'].dt.date.isin(holiday), 'holiday'] = 1"
   ]
  },
  {
   "cell_type": "code",
   "execution_count": 85,
   "id": "369f10ff",
   "metadata": {},
   "outputs": [],
   "source": [
    "step_youth['season'] = step_youth['month'].apply(season)\n",
    "step_youth['holiday'] = 0\n",
    "step_youth.loc[step_youth['timestamp'].dt.date.isin(holiday), 'holiday'] = 1"
   ]
  },
  {
   "cell_type": "code",
   "execution_count": 86,
   "id": "01aeba6a",
   "metadata": {},
   "outputs": [],
   "source": [
    "step_adult['season'] = step_adult['month'].apply(season)\n",
    "step_adult['holiday'] = 0\n",
    "step_adult.loc[step_adult['timestamp'].dt.date.isin(holiday), 'holiday'] = 1"
   ]
  },
  {
   "cell_type": "code",
   "execution_count": 88,
   "id": "3e4106e0",
   "metadata": {},
   "outputs": [],
   "source": [
    "step_eldery['season'] = step_eldery['month'].apply(season)\n",
    "step_eldery['holiday'] = 0\n",
    "step_eldery.loc[step_eldery['timestamp'].dt.date.isin(holiday), 'holiday'] = 1"
   ]
  },
  {
   "cell_type": "code",
   "execution_count": null,
   "id": "3bb93a02",
   "metadata": {},
   "outputs": [],
   "source": []
  },
  {
   "cell_type": "code",
   "execution_count": 89,
   "id": "10669bcf",
   "metadata": {},
   "outputs": [
    {
     "data": {
      "text/html": [
       "<div>\n",
       "<style scoped>\n",
       "    .dataframe tbody tr th:only-of-type {\n",
       "        vertical-align: middle;\n",
       "    }\n",
       "\n",
       "    .dataframe tbody tr th {\n",
       "        vertical-align: top;\n",
       "    }\n",
       "\n",
       "    .dataframe thead th {\n",
       "        text-align: right;\n",
       "    }\n",
       "</style>\n",
       "<table border=\"1\" class=\"dataframe\">\n",
       "  <thead>\n",
       "    <tr style=\"text-align: right;\">\n",
       "      <th></th>\n",
       "      <th>timestamp</th>\n",
       "      <th>STEP_CNT</th>\n",
       "      <th>users</th>\n",
       "      <th>year</th>\n",
       "      <th>month</th>\n",
       "      <th>day</th>\n",
       "      <th>hour</th>\n",
       "      <th>dayofweek</th>\n",
       "      <th>season</th>\n",
       "      <th>holiday</th>\n",
       "    </tr>\n",
       "  </thead>\n",
       "  <tbody>\n",
       "    <tr>\n",
       "      <th>0</th>\n",
       "      <td>2022-02-01 00:00:00</td>\n",
       "      <td>13107.0</td>\n",
       "      <td>528</td>\n",
       "      <td>2022</td>\n",
       "      <td>2</td>\n",
       "      <td>1</td>\n",
       "      <td>0</td>\n",
       "      <td>1</td>\n",
       "      <td>4</td>\n",
       "      <td>1</td>\n",
       "    </tr>\n",
       "    <tr>\n",
       "      <th>1</th>\n",
       "      <td>2022-02-01 01:00:00</td>\n",
       "      <td>9079.0</td>\n",
       "      <td>322</td>\n",
       "      <td>2022</td>\n",
       "      <td>2</td>\n",
       "      <td>1</td>\n",
       "      <td>1</td>\n",
       "      <td>1</td>\n",
       "      <td>4</td>\n",
       "      <td>1</td>\n",
       "    </tr>\n",
       "    <tr>\n",
       "      <th>2</th>\n",
       "      <td>2022-02-01 02:00:00</td>\n",
       "      <td>3294.0</td>\n",
       "      <td>170</td>\n",
       "      <td>2022</td>\n",
       "      <td>2</td>\n",
       "      <td>1</td>\n",
       "      <td>2</td>\n",
       "      <td>1</td>\n",
       "      <td>4</td>\n",
       "      <td>1</td>\n",
       "    </tr>\n",
       "    <tr>\n",
       "      <th>3</th>\n",
       "      <td>2022-02-01 03:00:00</td>\n",
       "      <td>2705.0</td>\n",
       "      <td>128</td>\n",
       "      <td>2022</td>\n",
       "      <td>2</td>\n",
       "      <td>1</td>\n",
       "      <td>3</td>\n",
       "      <td>1</td>\n",
       "      <td>4</td>\n",
       "      <td>1</td>\n",
       "    </tr>\n",
       "    <tr>\n",
       "      <th>4</th>\n",
       "      <td>2022-02-01 04:00:00</td>\n",
       "      <td>1146.0</td>\n",
       "      <td>78</td>\n",
       "      <td>2022</td>\n",
       "      <td>2</td>\n",
       "      <td>1</td>\n",
       "      <td>4</td>\n",
       "      <td>1</td>\n",
       "      <td>4</td>\n",
       "      <td>1</td>\n",
       "    </tr>\n",
       "    <tr>\n",
       "      <th>...</th>\n",
       "      <td>...</td>\n",
       "      <td>...</td>\n",
       "      <td>...</td>\n",
       "      <td>...</td>\n",
       "      <td>...</td>\n",
       "      <td>...</td>\n",
       "      <td>...</td>\n",
       "      <td>...</td>\n",
       "      <td>...</td>\n",
       "      <td>...</td>\n",
       "    </tr>\n",
       "    <tr>\n",
       "      <th>3091</th>\n",
       "      <td>2022-06-09 19:00:00</td>\n",
       "      <td>245821.0</td>\n",
       "      <td>4705</td>\n",
       "      <td>2022</td>\n",
       "      <td>6</td>\n",
       "      <td>9</td>\n",
       "      <td>19</td>\n",
       "      <td>3</td>\n",
       "      <td>2</td>\n",
       "      <td>1</td>\n",
       "    </tr>\n",
       "    <tr>\n",
       "      <th>3092</th>\n",
       "      <td>2022-06-09 20:00:00</td>\n",
       "      <td>225635.0</td>\n",
       "      <td>4380</td>\n",
       "      <td>2022</td>\n",
       "      <td>6</td>\n",
       "      <td>9</td>\n",
       "      <td>20</td>\n",
       "      <td>3</td>\n",
       "      <td>2</td>\n",
       "      <td>1</td>\n",
       "    </tr>\n",
       "    <tr>\n",
       "      <th>3093</th>\n",
       "      <td>2022-06-09 21:00:00</td>\n",
       "      <td>229877.0</td>\n",
       "      <td>4170</td>\n",
       "      <td>2022</td>\n",
       "      <td>6</td>\n",
       "      <td>9</td>\n",
       "      <td>21</td>\n",
       "      <td>3</td>\n",
       "      <td>2</td>\n",
       "      <td>1</td>\n",
       "    </tr>\n",
       "    <tr>\n",
       "      <th>3094</th>\n",
       "      <td>2022-06-09 22:00:00</td>\n",
       "      <td>154529.0</td>\n",
       "      <td>3001</td>\n",
       "      <td>2022</td>\n",
       "      <td>6</td>\n",
       "      <td>9</td>\n",
       "      <td>22</td>\n",
       "      <td>3</td>\n",
       "      <td>2</td>\n",
       "      <td>1</td>\n",
       "    </tr>\n",
       "    <tr>\n",
       "      <th>3095</th>\n",
       "      <td>2022-06-09 23:00:00</td>\n",
       "      <td>93700.0</td>\n",
       "      <td>2008</td>\n",
       "      <td>2022</td>\n",
       "      <td>6</td>\n",
       "      <td>9</td>\n",
       "      <td>23</td>\n",
       "      <td>3</td>\n",
       "      <td>2</td>\n",
       "      <td>1</td>\n",
       "    </tr>\n",
       "  </tbody>\n",
       "</table>\n",
       "<p>168 rows × 10 columns</p>\n",
       "</div>"
      ],
      "text/plain": [
       "               timestamp  STEP_CNT  users  year  month  day  hour  dayofweek  \\\n",
       "0    2022-02-01 00:00:00   13107.0    528  2022      2    1     0          1   \n",
       "1    2022-02-01 01:00:00    9079.0    322  2022      2    1     1          1   \n",
       "2    2022-02-01 02:00:00    3294.0    170  2022      2    1     2          1   \n",
       "3    2022-02-01 03:00:00    2705.0    128  2022      2    1     3          1   \n",
       "4    2022-02-01 04:00:00    1146.0     78  2022      2    1     4          1   \n",
       "...                  ...       ...    ...   ...    ...  ...   ...        ...   \n",
       "3091 2022-06-09 19:00:00  245821.0   4705  2022      6    9    19          3   \n",
       "3092 2022-06-09 20:00:00  225635.0   4380  2022      6    9    20          3   \n",
       "3093 2022-06-09 21:00:00  229877.0   4170  2022      6    9    21          3   \n",
       "3094 2022-06-09 22:00:00  154529.0   3001  2022      6    9    22          3   \n",
       "3095 2022-06-09 23:00:00   93700.0   2008  2022      6    9    23          3   \n",
       "\n",
       "      season  holiday  \n",
       "0          4        1  \n",
       "1          4        1  \n",
       "2          4        1  \n",
       "3          4        1  \n",
       "4          4        1  \n",
       "...      ...      ...  \n",
       "3091       2        1  \n",
       "3092       2        1  \n",
       "3093       2        1  \n",
       "3094       2        1  \n",
       "3095       2        1  \n",
       "\n",
       "[168 rows x 10 columns]"
      ]
     },
     "execution_count": 89,
     "metadata": {},
     "output_type": "execute_result"
    }
   ],
   "source": [
    "step_total[step_total['holiday']==1]"
   ]
  },
  {
   "cell_type": "code",
   "execution_count": null,
   "id": "33a8654e",
   "metadata": {},
   "outputs": [],
   "source": []
  },
  {
   "cell_type": "code",
   "execution_count": 93,
   "id": "2a41962a",
   "metadata": {},
   "outputs": [],
   "source": [
    "step_total = step_total.merge(weather, left_on='timestamp', right_on='datetime', how = 'left').drop('datetime', axis = 1)\n",
    "step_youth = step_youth.merge(weather, left_on='timestamp', right_on='datetime', how = 'left').drop('datetime', axis = 1)\n",
    "step_adult = step_adult.merge(weather, left_on='timestamp', right_on='datetime', how = 'left').drop('datetime', axis = 1)\n",
    "step_eldery = step_eldery.merge(weather, left_on='timestamp', right_on='datetime', how = 'left').drop('datetime', axis = 1)"
   ]
  },
  {
   "cell_type": "code",
   "execution_count": 96,
   "id": "3e544b28",
   "metadata": {},
   "outputs": [],
   "source": [
    "step_total['STEP_CNT'] = step_total['STEP_CNT'].astype('int64')\n",
    "step_youth['STEP_CNT'] = step_youth['STEP_CNT'].astype('int64')\n",
    "step_adult['STEP_CNT'] = step_adult['STEP_CNT'].astype('int64')\n",
    "step_eldery['STEP_CNT'] = step_eldery['STEP_CNT'].astype('int64')"
   ]
  },
  {
   "cell_type": "code",
   "execution_count": 98,
   "id": "5d0b962d",
   "metadata": {},
   "outputs": [],
   "source": [
    "step_total.to_csv('lifelog/step_total_merged.csv', index = False)"
   ]
  },
  {
   "cell_type": "code",
   "execution_count": 99,
   "id": "7bcfba85",
   "metadata": {},
   "outputs": [],
   "source": [
    "step_youth.to_csv('lifelog/step_youth_merged.csv', index = False)"
   ]
  },
  {
   "cell_type": "code",
   "execution_count": 100,
   "id": "5c5a50ab",
   "metadata": {},
   "outputs": [],
   "source": [
    "step_adult.to_csv('lifelog/step_adult_merged.csv', index = False)"
   ]
  },
  {
   "cell_type": "code",
   "execution_count": 101,
   "id": "2e215271",
   "metadata": {},
   "outputs": [],
   "source": [
    "step_eldery.to_csv('lifelog/step_eldery_merged.csv', index = False)"
   ]
  },
  {
   "cell_type": "code",
   "execution_count": null,
   "id": "eee1a0d2",
   "metadata": {},
   "outputs": [],
   "source": []
  }
 ],
 "metadata": {
  "kernelspec": {
   "display_name": "Python 3 (ipykernel)",
   "language": "python",
   "name": "python3"
  },
  "language_info": {
   "codemirror_mode": {
    "name": "ipython",
    "version": 3
   },
   "file_extension": ".py",
   "mimetype": "text/x-python",
   "name": "python",
   "nbconvert_exporter": "python",
   "pygments_lexer": "ipython3",
   "version": "3.9.12"
  }
 },
 "nbformat": 4,
 "nbformat_minor": 5
}
